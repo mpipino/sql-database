{
    "metadata": {
        "kernelspec": {
            "name": "python3",
            "display_name": "Python 3 (ipykernel)",
            "language": "python"
        },
        "language_info": {
            "name": "python",
            "version": "3.8.10",
            "mimetype": "text/x-python",
            "codemirror_mode": {
                "name": "ipython",
                "version": 3
            },
            "pygments_lexer": "ipython3",
            "nbconvert_exporter": "python",
            "file_extension": ".py"
        }
    },
    "nbformat_minor": 2,
    "nbformat": 4,
    "cells": [
        {
            "cell_type": "markdown",
            "source": [
                "### Installation mssql-scripter\n",
                "\n",
                "[microsoft/mssql-scripter: Repository for the new SQL cross-platform command line tools (github.com)](https://github.com/microsoft/mssql-scripter)"
            ],
            "metadata": {
                "azdata_cell_guid": "f6c5bb3d-1ad6-4681-a78f-afb0e5fd348f"
            }
        },
        {
            "cell_type": "code",
            "source": [
                "#pip install mssql-scripter\r\n",
                "pip install pyodbc\r\n",
                "pip install azure-identity"
            ],
            "metadata": {
                "azdata_cell_guid": "30f9a2db-09cc-4f17-9dc8-fe9981064281",
                "tags": []
            },
            "outputs": [
                {
                    "name": "stdout",
                    "text": "Requirement already satisfied: pyodbc in c:\\users\\abald\\azuredatastudio-python\\lib\\site-packages (4.0.31)\n",
                    "output_type": "stream"
                },
                {
                    "name": "stdout",
                    "text": "WARNING: You are using pip version 21.1.1; however, version 21.1.3 is available.\nYou should consider upgrading via the 'c:\\users\\abald\\azuredatastudio-python\\python.exe -m pip install --upgrade pip' command.\n",
                    "output_type": "stream"
                },
                {
                    "name": "stdout",
                    "text": "Collecting azure-identity\n",
                    "output_type": "stream"
                },
                {
                    "name": "stdout",
                    "text": "  Downloading azure_identity-1.6.0-py2.py3-none-any.whl (108 kB)\n",
                    "output_type": "stream"
                },
                {
                    "name": "stdout",
                    "text": "Collecting msal-extensions~=0.3.0\n",
                    "output_type": "stream"
                },
                {
                    "name": "stdout",
                    "text": "  Downloading msal_extensions-0.3.0-py2.py3-none-any.whl (16 kB)\nRequirement already satisfied: six>=1.12.0 in c:\\users\\abald\\appdata\\roaming\\python\\python38\\site-packages (from azure-identity) (1.14.0)\n",
                    "output_type": "stream"
                },
                {
                    "name": "stdout",
                    "text": "Collecting azure-core<2.0.0,>=1.0.0\n  Downloading azure_core-1.16.0-py2.py3-none-any.whl (163 kB)\n",
                    "output_type": "stream"
                },
                {
                    "name": "stdout",
                    "text": "Collecting cryptography>=2.1.4\n  Downloading cryptography-3.4.7-cp36-abi3-win_amd64.whl (1.6 MB)\n",
                    "output_type": "stream"
                },
                {
                    "name": "stdout",
                    "text": "Collecting msal<2.0.0,>=1.7.0\n  Downloading msal-1.12.0-py2.py3-none-any.whl (66 kB)\n",
                    "output_type": "stream"
                },
                {
                    "name": "stdout",
                    "text": "Collecting requests>=2.18.4\n  Downloading requests-2.25.1-py2.py3-none-any.whl (61 kB)\n",
                    "output_type": "stream"
                },
                {
                    "name": "stdout",
                    "text": "Requirement already satisfied: cffi>=1.12 in c:\\users\\abald\\appdata\\roaming\\python\\python38\\site-packages (from cryptography>=2.1.4->azure-identity) (1.14.5)\nRequirement already satisfied: pycparser in c:\\users\\abald\\appdata\\roaming\\python\\python38\\site-packages (from cffi>=1.12->cryptography>=2.1.4->azure-identity) (2.20)\n",
                    "output_type": "stream"
                },
                {
                    "name": "stdout",
                    "text": "Collecting PyJWT[crypto]<3,>=1.0.0\n  Downloading PyJWT-2.1.0-py3-none-any.whl (16 kB)\n",
                    "output_type": "stream"
                },
                {
                    "name": "stdout",
                    "text": "Collecting portalocker~=1.6\n  Downloading portalocker-1.7.1-py2.py3-none-any.whl (10 kB)\nRequirement already satisfied: pywin32!=226 in c:\\users\\abald\\appdata\\roaming\\python\\python38\\site-packages (from portalocker~=1.6->msal-extensions~=0.3.0->azure-identity) (301)\n",
                    "output_type": "stream"
                },
                {
                    "name": "stdout",
                    "text": "Collecting chardet<5,>=3.0.2\n  Downloading chardet-4.0.0-py2.py3-none-any.whl (178 kB)\nCollecting idna<3,>=2.5\n  Downloading idna-2.10-py2.py3-none-any.whl (58 kB)\n",
                    "output_type": "stream"
                },
                {
                    "name": "stdout",
                    "text": "Collecting certifi>=2017.4.17\n  Downloading certifi-2021.5.30-py2.py3-none-any.whl (145 kB)\n",
                    "output_type": "stream"
                },
                {
                    "name": "stdout",
                    "text": "Collecting urllib3<1.27,>=1.21.1\n  Downloading urllib3-1.26.6-py2.py3-none-any.whl (138 kB)\n",
                    "output_type": "stream"
                },
                {
                    "name": "stdout",
                    "text": "Installing collected packages: urllib3, PyJWT, idna, cryptography, chardet, certifi, requests, portalocker, msal, msal-extensions, azure-core, azure-identity\n",
                    "output_type": "stream"
                },
                {
                    "name": "stdout",
                    "text": "Successfully installed PyJWT-2.1.0 azure-core-1.16.0 azure-identity-1.6.0 certifi-2021.5.30 chardet-4.0.0 cryptography-3.4.7 idna-2.10 msal-1.12.0 msal-extensions-0.3.0 portalocker-1.7.1 requests-2.25.1 urllib3-1.26.6\nWARNING: You are using pip version 21.1.1; however, version 21.1.3 is available.\nYou should consider upgrading via the 'c:\\users\\abald\\azuredatastudio-python\\python.exe -m pip install --upgrade pip' command.\n",
                    "output_type": "stream"
                }
            ],
            "execution_count": 1
        },
        {
            "cell_type": "markdown",
            "source": [
                "For general help content, pass in the -h parameter:"
            ],
            "metadata": {
                "azdata_cell_guid": "47f7c643-bcf5-418d-a573-9f3b59d3f600"
            }
        },
        {
            "cell_type": "code",
            "source": [
                "mssql-scripter -h"
            ],
            "metadata": {
                "azdata_cell_guid": "d1740e29-791b-4cb7-ba72-4d7b2bb1db4c"
            },
            "outputs": [],
            "execution_count": null
        },
        {
            "cell_type": "code",
            "source": [
                "import pyodbc\n",
                "server = 'xirectexpress.database.xirect.com'\n",
                "database = 'express_test'\n",
                "username ='gabalde@xirectds.com'\n",
                "Authentication='ActiveDirectoryInteractive'\n",
                "driver= '{ODBC Driver 17 for SQL Server}'\n",
                "conn = pyodbc.connect('DRIVER='+driver+\n",
                "                      ';SERVER='+server+\n",
                "                      ';PORT=1433;DATABASE='+database+\n",
                "                      ';UID='+username+\n",
                "                      ';AUTHENTICATION='+Authentication)\n",
                "print(conn)\n",
                ""
            ],
            "metadata": {
                "azdata_cell_guid": "1a32162c-9906-481b-9bda-919043838fa2"
            },
            "outputs": [
                {
                    "traceback": [
                        "\u001b[1;31m---------------------------------------------------------------------------\u001b[0m",
                        "\u001b[1;31mOperationalError\u001b[0m                          Traceback (most recent call last)",
                        "\u001b[1;32m~\\AppData\\Local\\Temp/ipykernel_764/1183476291.py\u001b[0m in \u001b[0;36m<module>\u001b[1;34m\u001b[0m\n\u001b[0;32m      5\u001b[0m \u001b[0mAuthentication\u001b[0m\u001b[1;33m=\u001b[0m\u001b[1;34m'ActiveDirectoryInteractive'\u001b[0m\u001b[1;33m\u001b[0m\u001b[1;33m\u001b[0m\u001b[0m\n\u001b[0;32m      6\u001b[0m \u001b[0mdriver\u001b[0m\u001b[1;33m=\u001b[0m \u001b[1;34m'{ODBC Driver 17 for SQL Server}'\u001b[0m\u001b[1;33m\u001b[0m\u001b[1;33m\u001b[0m\u001b[0m\n\u001b[1;32m----> 7\u001b[1;33m conn = pyodbc.connect('DRIVER='+driver+\n\u001b[0m\u001b[0;32m      8\u001b[0m                       \u001b[1;34m';SERVER='\u001b[0m\u001b[1;33m+\u001b[0m\u001b[0mserver\u001b[0m\u001b[1;33m+\u001b[0m\u001b[1;33m\u001b[0m\u001b[1;33m\u001b[0m\u001b[0m\n\u001b[0;32m      9\u001b[0m                       \u001b[1;34m';PORT=1433;DATABASE='\u001b[0m\u001b[1;33m+\u001b[0m\u001b[0mdatabase\u001b[0m\u001b[1;33m+\u001b[0m\u001b[1;33m\u001b[0m\u001b[1;33m\u001b[0m\u001b[0m\n",
                        "\u001b[1;31mOperationalError\u001b[0m: ('08001', '[08001] [Microsoft][ODBC Driver 17 for SQL Server]SSL Provider: The target principal name is incorrect.\\r\\n (-2146893022) (SQLDriverConnect); [08001] [Microsoft][ODBC Driver 17 for SQL Server]Client unable to establish connection (-2146893022); [08001] [Microsoft][ODBC Driver 17 for SQL Server]Invalid connection string attribute (0)')"
                    ],
                    "ename": "OperationalError",
                    "evalue": "('08001', '[08001] [Microsoft][ODBC Driver 17 for SQL Server]SSL Provider: The target principal name is incorrect.\\r\\n (-2146893022) (SQLDriverConnect); [08001] [Microsoft][ODBC Driver 17 for SQL Server]Client unable to establish connection (-2146893022); [08001] [Microsoft][ODBC Driver 17 for SQL Server]Invalid connection string attribute (0)')",
                    "output_type": "error"
                }
            ],
            "execution_count": 5
        },
        {
            "cell_type": "code",
            "source": [
                "from azure.identity import AzureCliCredential\r\n",
                "import struct\r\n",
                "import pyodbc \r\n",
                "\r\n",
                "# input params\r\n",
                "server = 'xirectexpress.database.xirect.com'\r\n",
                "database = 'express_test'\r\n",
                "query = 'SELECT * from crs.course;'\r\n",
                "\r\n",
                "# Use the cli credential to get a token after the user has signed in via the Azure CLI 'az login' command.\r\n",
                "credential = AzureCliCredential()\r\n",
                "databaseToken = credential.get_token('https://database.windows.net/')\r\n",
                "\r\n",
                "# get bytes from token obtained\r\n",
                "tokenb = bytes(databaseToken[0], \"UTF-8\")\r\n",
                "exptoken = b'';\r\n",
                "for i in tokenb:\r\n",
                " exptoken += bytes({i});\r\n",
                " exptoken += bytes(1);\r\n",
                "tokenstruct = struct.pack(\"=i\", len(exptoken)) + exptoken;\r\n",
                "\r\n",
                "# build connection string using acquired token\r\n",
                "connString = \"Driver={ODBC Driver 17 for SQL Server};SERVER=\"+server+\";DATABASE=\"+database+\"\"\r\n",
                "SQL_COPT_SS_ACCESS_TOKEN = 1256 \r\n",
                "conn = pyodbc.connect(connString, attrs_before = {SQL_COPT_SS_ACCESS_TOKEN:tokenstruct});\r\n",
                "\r\n",
                "# sample query\r\n",
                "cursor = conn.cursor()\r\n",
                "cursor.execute(query)\r\n",
                "row = cursor.fetchone()\r\n",
                "while row:\r\n",
                "    print (str(row[0]) + \" \" + str(row[1]))\r\n",
                "    row = cursor.fetchone()"
            ],
            "metadata": {
                "azdata_cell_guid": "26fdc8ae-f6d8-466b-9e21-60eebf808dc7"
            },
            "outputs": [
                {
                    "name": "stderr",
                    "text": "AzureCliCredential.get_token failed: Azure CLI not found on path\n",
                    "output_type": "stream"
                },
                {
                    "traceback": [
                        "\u001b[1;31m---------------------------------------------------------------------------\u001b[0m",
                        "\u001b[1;31mCalledProcessError\u001b[0m                        Traceback (most recent call last)",
                        "\u001b[1;32m~\\azuredatastudio-python\\lib\\site-packages\\azure\\identity\\_credentials\\azure_cli.py\u001b[0m in \u001b[0;36m_run_command\u001b[1;34m(command)\u001b[0m\n\u001b[0;32m    121\u001b[0m \u001b[1;33m\u001b[0m\u001b[0m\n\u001b[1;32m--> 122\u001b[1;33m         \u001b[1;32mreturn\u001b[0m \u001b[0msubprocess\u001b[0m\u001b[1;33m.\u001b[0m\u001b[0mcheck_output\u001b[0m\u001b[1;33m(\u001b[0m\u001b[0margs\u001b[0m\u001b[1;33m,\u001b[0m \u001b[1;33m**\u001b[0m\u001b[0mkwargs\u001b[0m\u001b[1;33m)\u001b[0m\u001b[1;33m\u001b[0m\u001b[1;33m\u001b[0m\u001b[0m\n\u001b[0m\u001b[0;32m    123\u001b[0m     \u001b[1;32mexcept\u001b[0m \u001b[0msubprocess\u001b[0m\u001b[1;33m.\u001b[0m\u001b[0mCalledProcessError\u001b[0m \u001b[1;32mas\u001b[0m \u001b[0mex\u001b[0m\u001b[1;33m:\u001b[0m\u001b[1;33m\u001b[0m\u001b[1;33m\u001b[0m\u001b[0m\n",
                        "\u001b[1;32m~\\azuredatastudio-python\\lib\\subprocess.py\u001b[0m in \u001b[0;36mcheck_output\u001b[1;34m(timeout, *popenargs, **kwargs)\u001b[0m\n\u001b[0;32m    414\u001b[0m \u001b[1;33m\u001b[0m\u001b[0m\n\u001b[1;32m--> 415\u001b[1;33m     return run(*popenargs, stdout=PIPE, timeout=timeout, check=True,\n\u001b[0m\u001b[0;32m    416\u001b[0m                **kwargs).stdout\n",
                        "\u001b[1;32m~\\azuredatastudio-python\\lib\\subprocess.py\u001b[0m in \u001b[0;36mrun\u001b[1;34m(input, capture_output, timeout, check, *popenargs, **kwargs)\u001b[0m\n\u001b[0;32m    515\u001b[0m         \u001b[1;32mif\u001b[0m \u001b[0mcheck\u001b[0m \u001b[1;32mand\u001b[0m \u001b[0mretcode\u001b[0m\u001b[1;33m:\u001b[0m\u001b[1;33m\u001b[0m\u001b[1;33m\u001b[0m\u001b[0m\n\u001b[1;32m--> 516\u001b[1;33m             raise CalledProcessError(retcode, process.args,\n\u001b[0m\u001b[0;32m    517\u001b[0m                                      output=stdout, stderr=stderr)\n",
                        "\u001b[1;31mCalledProcessError\u001b[0m: Command '['cmd', '/c', 'az account get-access-token --output json --resource https://database.windows.net/']' returned non-zero exit status 1.",
                        "\nDuring handling of the above exception, another exception occurred:\n",
                        "\u001b[1;31mCredentialUnavailableError\u001b[0m                Traceback (most recent call last)",
                        "\u001b[1;32m~\\AppData\\Local\\Temp/ipykernel_10280/3182275542.py\u001b[0m in \u001b[0;36m<module>\u001b[1;34m\u001b[0m\n\u001b[0;32m     10\u001b[0m \u001b[1;31m# Use the cli credential to get a token after the user has signed in via the Azure CLI 'az login' command.\u001b[0m\u001b[1;33m\u001b[0m\u001b[1;33m\u001b[0m\u001b[1;33m\u001b[0m\u001b[0m\n\u001b[0;32m     11\u001b[0m \u001b[0mcredential\u001b[0m \u001b[1;33m=\u001b[0m \u001b[0mAzureCliCredential\u001b[0m\u001b[1;33m(\u001b[0m\u001b[1;33m)\u001b[0m\u001b[1;33m\u001b[0m\u001b[1;33m\u001b[0m\u001b[0m\n\u001b[1;32m---> 12\u001b[1;33m \u001b[0mdatabaseToken\u001b[0m \u001b[1;33m=\u001b[0m \u001b[0mcredential\u001b[0m\u001b[1;33m.\u001b[0m\u001b[0mget_token\u001b[0m\u001b[1;33m(\u001b[0m\u001b[1;34m'https://database.windows.net/'\u001b[0m\u001b[1;33m)\u001b[0m\u001b[1;33m\u001b[0m\u001b[1;33m\u001b[0m\u001b[0m\n\u001b[0m\u001b[0;32m     13\u001b[0m \u001b[1;33m\u001b[0m\u001b[0m\n\u001b[0;32m     14\u001b[0m \u001b[1;31m# get bytes from token obtained\u001b[0m\u001b[1;33m\u001b[0m\u001b[1;33m\u001b[0m\u001b[1;33m\u001b[0m\u001b[0m\n",
                        "\u001b[1;32m~\\azuredatastudio-python\\lib\\site-packages\\azure\\identity\\_internal\\decorators.py\u001b[0m in \u001b[0;36mwrapper\u001b[1;34m(*args, **kwargs)\u001b[0m\n\u001b[0;32m     25\u001b[0m         \u001b[1;32mdef\u001b[0m \u001b[0mwrapper\u001b[0m\u001b[1;33m(\u001b[0m\u001b[1;33m*\u001b[0m\u001b[0margs\u001b[0m\u001b[1;33m,\u001b[0m \u001b[1;33m**\u001b[0m\u001b[0mkwargs\u001b[0m\u001b[1;33m)\u001b[0m\u001b[1;33m:\u001b[0m\u001b[1;33m\u001b[0m\u001b[1;33m\u001b[0m\u001b[0m\n\u001b[0;32m     26\u001b[0m             \u001b[1;32mtry\u001b[0m\u001b[1;33m:\u001b[0m\u001b[1;33m\u001b[0m\u001b[1;33m\u001b[0m\u001b[0m\n\u001b[1;32m---> 27\u001b[1;33m                 \u001b[0mtoken\u001b[0m \u001b[1;33m=\u001b[0m \u001b[0mfn\u001b[0m\u001b[1;33m(\u001b[0m\u001b[1;33m*\u001b[0m\u001b[0margs\u001b[0m\u001b[1;33m,\u001b[0m \u001b[1;33m**\u001b[0m\u001b[0mkwargs\u001b[0m\u001b[1;33m)\u001b[0m\u001b[1;33m\u001b[0m\u001b[1;33m\u001b[0m\u001b[0m\n\u001b[0m\u001b[0;32m     28\u001b[0m                 \u001b[0m_LOGGER\u001b[0m\u001b[1;33m.\u001b[0m\u001b[0minfo\u001b[0m\u001b[1;33m(\u001b[0m\u001b[1;34m\"%s succeeded\"\u001b[0m\u001b[1;33m,\u001b[0m \u001b[0mqualified_name\u001b[0m\u001b[1;33m)\u001b[0m\u001b[1;33m\u001b[0m\u001b[1;33m\u001b[0m\u001b[0m\n\u001b[0;32m     29\u001b[0m                 \u001b[1;32mreturn\u001b[0m \u001b[0mtoken\u001b[0m\u001b[1;33m\u001b[0m\u001b[1;33m\u001b[0m\u001b[0m\n",
                        "\u001b[1;32m~\\azuredatastudio-python\\lib\\site-packages\\azure\\identity\\_credentials\\azure_cli.py\u001b[0m in \u001b[0;36mget_token\u001b[1;34m(self, *scopes, **kwargs)\u001b[0m\n\u001b[0;32m     55\u001b[0m \u001b[1;33m\u001b[0m\u001b[0m\n\u001b[0;32m     56\u001b[0m         \u001b[0mresource\u001b[0m \u001b[1;33m=\u001b[0m \u001b[0m_scopes_to_resource\u001b[0m\u001b[1;33m(\u001b[0m\u001b[1;33m*\u001b[0m\u001b[0mscopes\u001b[0m\u001b[1;33m)\u001b[0m\u001b[1;33m\u001b[0m\u001b[1;33m\u001b[0m\u001b[0m\n\u001b[1;32m---> 57\u001b[1;33m         \u001b[0moutput\u001b[0m \u001b[1;33m=\u001b[0m \u001b[0m_run_command\u001b[0m\u001b[1;33m(\u001b[0m\u001b[0mCOMMAND_LINE\u001b[0m\u001b[1;33m.\u001b[0m\u001b[0mformat\u001b[0m\u001b[1;33m(\u001b[0m\u001b[0mresource\u001b[0m\u001b[1;33m)\u001b[0m\u001b[1;33m)\u001b[0m\u001b[1;33m\u001b[0m\u001b[1;33m\u001b[0m\u001b[0m\n\u001b[0m\u001b[0;32m     58\u001b[0m \u001b[1;33m\u001b[0m\u001b[0m\n\u001b[0;32m     59\u001b[0m         \u001b[0mtoken\u001b[0m \u001b[1;33m=\u001b[0m \u001b[0mparse_token\u001b[0m\u001b[1;33m(\u001b[0m\u001b[0moutput\u001b[0m\u001b[1;33m)\u001b[0m\u001b[1;33m\u001b[0m\u001b[1;33m\u001b[0m\u001b[0m\n",
                        "\u001b[1;32m~\\azuredatastudio-python\\lib\\site-packages\\azure\\identity\\_credentials\\azure_cli.py\u001b[0m in \u001b[0;36m_run_command\u001b[1;34m(command)\u001b[0m\n\u001b[0;32m    124\u001b[0m         \u001b[1;31m# non-zero return from shell\u001b[0m\u001b[1;33m\u001b[0m\u001b[1;33m\u001b[0m\u001b[1;33m\u001b[0m\u001b[0m\n\u001b[0;32m    125\u001b[0m         \u001b[1;32mif\u001b[0m \u001b[0mex\u001b[0m\u001b[1;33m.\u001b[0m\u001b[0mreturncode\u001b[0m \u001b[1;33m==\u001b[0m \u001b[1;36m127\u001b[0m \u001b[1;32mor\u001b[0m \u001b[0mex\u001b[0m\u001b[1;33m.\u001b[0m\u001b[0moutput\u001b[0m\u001b[1;33m.\u001b[0m\u001b[0mstartswith\u001b[0m\u001b[1;33m(\u001b[0m\u001b[1;34m\"'az' is not recognized\"\u001b[0m\u001b[1;33m)\u001b[0m\u001b[1;33m:\u001b[0m\u001b[1;33m\u001b[0m\u001b[1;33m\u001b[0m\u001b[0m\n\u001b[1;32m--> 126\u001b[1;33m             \u001b[1;32mraise\u001b[0m \u001b[0mCredentialUnavailableError\u001b[0m\u001b[1;33m(\u001b[0m\u001b[0mmessage\u001b[0m\u001b[1;33m=\u001b[0m\u001b[0mCLI_NOT_FOUND\u001b[0m\u001b[1;33m)\u001b[0m\u001b[1;33m\u001b[0m\u001b[1;33m\u001b[0m\u001b[0m\n\u001b[0m\u001b[0;32m    127\u001b[0m         \u001b[1;32mif\u001b[0m \u001b[1;34m\"az login\"\u001b[0m \u001b[1;32min\u001b[0m \u001b[0mex\u001b[0m\u001b[1;33m.\u001b[0m\u001b[0moutput\u001b[0m \u001b[1;32mor\u001b[0m \u001b[1;34m\"az account set\"\u001b[0m \u001b[1;32min\u001b[0m \u001b[0mex\u001b[0m\u001b[1;33m.\u001b[0m\u001b[0moutput\u001b[0m\u001b[1;33m:\u001b[0m\u001b[1;33m\u001b[0m\u001b[1;33m\u001b[0m\u001b[0m\n\u001b[0;32m    128\u001b[0m             \u001b[1;32mraise\u001b[0m \u001b[0mCredentialUnavailableError\u001b[0m\u001b[1;33m(\u001b[0m\u001b[0mmessage\u001b[0m\u001b[1;33m=\u001b[0m\u001b[0mNOT_LOGGED_IN\u001b[0m\u001b[1;33m)\u001b[0m\u001b[1;33m\u001b[0m\u001b[1;33m\u001b[0m\u001b[0m\n",
                        "\u001b[1;31mCredentialUnavailableError\u001b[0m: Azure CLI not found on path"
                    ],
                    "ename": "CredentialUnavailableError",
                    "evalue": "Azure CLI not found on path",
                    "output_type": "error"
                }
            ],
            "execution_count": 4
        },
        {
            "cell_type": "code",
            "source": [
                "#Ejecutarlo con Kernel de PowerShell\r\n",
                "#mssql-scripter -S localhost\\sql_2019_dev -d AdventureWorks2019 -f F:\\SQL\\adventureworks2019.sql \r\n",
                "#mssql-scripter --connection-string \"server=xirectexpress.database.xirect.com;Initial Catalog=Express_Test;User ID=gabalde@xirectds.com;\" -d express_test --file-per-object --include-objects crs.course --file-path F:\\SQL\\scripts\\ --data-only\r\n",
                "\r\n",
                "import pyodbc\r\n",
                "server = '***.database.windows.net'\r\n",
                "database = 'Mydatabase'\r\n",
                "username ='****@****.com'\r\n",
                "Authentication='ActiveDirectoryInteractive'\r\n",
                "driver= '{ODBC Driver 17 for SQL Server}'\r\n",
                "conn = pyodbc.connect('DRIVER='+driver+\r\n",
                "                      ';SERVER='+server+\r\n",
                "                      ';PORT=1433;DATABASE='+database+\r\n",
                "                      ';UID='+username+\r\n",
                "                      ';AUTHENTICATION='+Authentication)\r\n",
                "\r\n",
                "print(conn)\r\n",
                "\r\n",
                "#mssql-scripter -S xirectexpress.database.xirect.com -d Express_Test -U gabalde@xirectds.com -P 'K#vx4G9#LV%LnK' -d express_test --file-per-object --include-objects crs.course --file-path F:\\SQL\\scripts\\ --data-only\r\n",
                ""
            ],
            "metadata": {
                "azdata_cell_guid": "232be52c-e804-43ca-a62c-16843f19cd31",
                "tags": []
            },
            "outputs": [],
            "execution_count": null
        }
    ]
}