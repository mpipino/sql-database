{
    "metadata": {
        "kernelspec": {
            "name": "SQL",
            "display_name": "SQL",
            "language": "sql"
        },
        "language_info": {
            "name": "sql",
            "version": ""
        }
    },
    "nbformat_minor": 2,
    "nbformat": 4,
    "cells": [
        {
            "cell_type": "code",
            "source": [
                "USE AdventureWorksDW2019;  \r\n",
                "SELECT 'The list price is ' + CAST(ListPrice AS VARCHAR(12)) AS ListPrice\r\n",
                "FROM dbo.DimProduct\r\n",
                "WHERE ListPrice BETWEEN 350.00 AND 400.00;"
            ],
            "metadata": {
                "azdata_cell_guid": "8732609a-d17c-4fdd-a378-aab6122c0cb9",
                "tags": []
            },
            "outputs": [
                {
                    "output_type": "display_data",
                    "data": {
                        "text/html": "(5 rows affected)"
                    },
                    "metadata": {}
                },
                {
                    "output_type": "display_data",
                    "data": {
                        "text/html": "Total execution time: 00:00:00.037"
                    },
                    "metadata": {}
                },
                {
                    "output_type": "execute_result",
                    "metadata": {},
                    "execution_count": 41,
                    "data": {
                        "application/vnd.dataresource+json": {
                            "schema": {
                                "fields": [
                                    {
                                        "name": "ListPrice"
                                    }
                                ]
                            },
                            "data": [
                                {
                                    "0": "The list price is 357.06"
                                },
                                {
                                    "0": "The list price is 364.09"
                                },
                                {
                                    "0": "The list price is 364.09"
                                },
                                {
                                    "0": "The list price is 364.09"
                                },
                                {
                                    "0": "The list price is 364.09"
                                }
                            ]
                        },
                        "text/html": [
                            "<table>",
                            "<tr><th>ListPrice</th></tr>",
                            "<tr><td>The list price is 357.06</td></tr>",
                            "<tr><td>The list price is 364.09</td></tr>",
                            "<tr><td>The list price is 364.09</td></tr>",
                            "<tr><td>The list price is 364.09</td></tr>",
                            "<tr><td>The list price is 364.09</td></tr>",
                            "</table>"
                        ]
                    }
                }
            ],
            "execution_count": 41
        },
        {
            "cell_type": "code",
            "source": [
                "\r\n",
                "SELECT\r\n",
                "    GETDATE() AS UnconvertedDateTime,\r\n",
                "    CAST(GETDATE() AS NVARCHAR(30)) AS UsingCast,\r\n",
                "    CONVERT(nvarchar(30), GETDATE(), 126) AS UsingConvertTo_ISO8601  ;  \r\n",
                "GO"
            ],
            "metadata": {
                "azdata_cell_guid": "365b5d81-da6e-45c6-8b4b-aa5cbc443241"
            },
            "outputs": [
                {
                    "output_type": "display_data",
                    "data": {
                        "text/html": "(1 row affected)"
                    },
                    "metadata": {}
                },
                {
                    "output_type": "display_data",
                    "data": {
                        "text/html": "Total execution time: 00:00:00.105"
                    },
                    "metadata": {}
                },
                {
                    "output_type": "execute_result",
                    "metadata": {},
                    "execution_count": 42,
                    "data": {
                        "application/vnd.dataresource+json": {
                            "schema": {
                                "fields": [
                                    {
                                        "name": "UnconvertedDateTime"
                                    },
                                    {
                                        "name": "UsingCast"
                                    },
                                    {
                                        "name": "UsingConvertTo_ISO8601"
                                    }
                                ]
                            },
                            "data": [
                                {
                                    "0": "2021-08-09 20:49:13.967",
                                    "1": "Aug  9 2021  8:49PM",
                                    "2": "2021-08-09T20:49:13.967"
                                }
                            ]
                        },
                        "text/html": [
                            "<table>",
                            "<tr><th>UnconvertedDateTime</th><th>UsingCast</th><th>UsingConvertTo_ISO8601</th></tr>",
                            "<tr><td>2021-08-09 20:49:13.967</td><td>Aug  9 2021  8:49PM</td><td>2021-08-09T20:49:13.967</td></tr>",
                            "</table>"
                        ]
                    }
                }
            ],
            "execution_count": 42
        },
        {
            "cell_type": "code",
            "source": [
                "USE AdventureWorks2019;  \r\n",
                "--Convert the character value 'Name' to a binary value.\r\n",
                "SELECT CONVERT(BINARY(8), 'Name', 0) AS [Style 0, character to binary];  "
            ],
            "metadata": {
                "azdata_cell_guid": "1f89107b-3011-4213-bd03-57ae3ff7e4c1"
            },
            "outputs": [
                {
                    "output_type": "display_data",
                    "data": {
                        "text/html": "(1 row affected)"
                    },
                    "metadata": {}
                },
                {
                    "output_type": "display_data",
                    "data": {
                        "text/html": "Total execution time: 00:00:00.013"
                    },
                    "metadata": {}
                },
                {
                    "output_type": "execute_result",
                    "metadata": {},
                    "execution_count": 43,
                    "data": {
                        "application/vnd.dataresource+json": {
                            "schema": {
                                "fields": [
                                    {
                                        "name": "Style 0, character to binary"
                                    }
                                ]
                            },
                            "data": [
                                {
                                    "0": "0x4E616D6500000000"
                                }
                            ]
                        },
                        "text/html": [
                            "<table>",
                            "<tr><th>Style 0, character to binary</th></tr>",
                            "<tr><td>0x4E616D6500000000</td></tr>",
                            "</table>"
                        ]
                    }
                }
            ],
            "execution_count": 43
        },
        {
            "cell_type": "code",
            "source": [
                "\r\n",
                "USE AdventureWorks2019;  \r\n",
                "GO\r\n",
                "SELECT CAST(ROUND(SalesYTD/CommissionPCT, 0) AS INT) AS Computed\r\n",
                "FROM Sales.SalesPerson\r\n",
                "WHERE CommissionPCT != 0;  \r\n",
                "GO\r\n",
                ""
            ],
            "metadata": {
                "azdata_cell_guid": "2c3eab3c-f283-4aa0-aed5-b188da3577be"
            },
            "outputs": [
                {
                    "output_type": "display_data",
                    "data": {
                        "text/html": "Commands completed successfully."
                    },
                    "metadata": {}
                },
                {
                    "output_type": "display_data",
                    "data": {
                        "text/html": "(14 rows affected)"
                    },
                    "metadata": {}
                },
                {
                    "output_type": "display_data",
                    "data": {
                        "text/html": "Total execution time: 00:00:00.006"
                    },
                    "metadata": {}
                },
                {
                    "output_type": "execute_result",
                    "metadata": {},
                    "execution_count": 9,
                    "data": {
                        "application/vnd.dataresource+json": {
                            "schema": {
                                "fields": [
                                    {
                                        "name": "Computed"
                                    }
                                ]
                            },
                            "data": [
                                {
                                    "0": "313598182"
                                },
                                {
                                    "0": "283424570"
                                },
                                {
                                    "0": "212627891"
                                },
                                {
                                    "0": "145371947"
                                },
                                {
                                    "0": "231518561"
                                },
                                {
                                    "0": "135257713"
                                },
                                {
                                    "0": "245853562"
                                },
                                {
                                    "0": "173636048"
                                },
                                {
                                    "0": "131084412"
                                },
                                {
                                    "0": "82976958"
                                },
                                {
                                    "0": "78989496"
                                },
                                {
                                    "0": "101503706"
                                },
                                {
                                    "0": "205843561"
                                },
                                {
                                    "0": "195101020"
                                }
                            ]
                        },
                        "text/html": [
                            "<table>",
                            "<tr><th>Computed</th></tr>",
                            "<tr><td>313598182</td></tr>",
                            "<tr><td>283424570</td></tr>",
                            "<tr><td>212627891</td></tr>",
                            "<tr><td>145371947</td></tr>",
                            "<tr><td>231518561</td></tr>",
                            "<tr><td>135257713</td></tr>",
                            "<tr><td>245853562</td></tr>",
                            "<tr><td>173636048</td></tr>",
                            "<tr><td>131084412</td></tr>",
                            "<tr><td>82976958</td></tr>",
                            "<tr><td>78989496</td></tr>",
                            "<tr><td>101503706</td></tr>",
                            "<tr><td>205843561</td></tr>",
                            "<tr><td>195101020</td></tr>",
                            "</table>"
                        ]
                    }
                }
            ],
            "execution_count": 9
        },
        {
            "cell_type": "code",
            "source": [
                "\r\n",
                "-- Use CONVERT.  \r\n",
                "USE AdventureWorks2019;  \r\n",
                "GO\r\n",
                "SELECT SUBSTRING(Name, 1,15) AS ProductName, ListPrice\r\n",
                "FROM Production.Product\r\n",
                "WHERE CONVERT(int, ListPrice) LIKE '33%';  \r\n",
                "GO\r\n",
                ""
            ],
            "metadata": {
                "azdata_cell_guid": "6496f63c-2286-42f2-aaa5-65fe6d8985e6"
            },
            "outputs": [
                {
                    "output_type": "display_data",
                    "data": {
                        "text/html": "Commands completed successfully."
                    },
                    "metadata": {}
                },
                {
                    "output_type": "display_data",
                    "data": {
                        "text/html": "(28 rows affected)"
                    },
                    "metadata": {}
                },
                {
                    "output_type": "display_data",
                    "data": {
                        "text/html": "Total execution time: 00:00:00.013"
                    },
                    "metadata": {}
                },
                {
                    "output_type": "execute_result",
                    "metadata": {},
                    "execution_count": 46,
                    "data": {
                        "application/vnd.dataresource+json": {
                            "schema": {
                                "fields": [
                                    {
                                        "name": "ProductName"
                                    },
                                    {
                                        "name": "ListPrice"
                                    }
                                ]
                            },
                            "data": [
                                {
                                    "0": "LL Road Frame -",
                                    "1": "337.2200"
                                },
                                {
                                    "0": "LL Road Frame -",
                                    "1": "337.2200"
                                },
                                {
                                    "0": "LL Road Frame -",
                                    "1": "337.2200"
                                },
                                {
                                    "0": "LL Road Frame -",
                                    "1": "337.2200"
                                },
                                {
                                    "0": "LL Road Frame -",
                                    "1": "337.2200"
                                },
                                {
                                    "0": "LL Road Frame -",
                                    "1": "337.2200"
                                },
                                {
                                    "0": "LL Road Frame -",
                                    "1": "337.2200"
                                },
                                {
                                    "0": "LL Road Frame -",
                                    "1": "337.2200"
                                },
                                {
                                    "0": "LL Road Frame -",
                                    "1": "337.2200"
                                },
                                {
                                    "0": "LL Road Frame -",
                                    "1": "337.2200"
                                },
                                {
                                    "0": "LL Road Frame -",
                                    "1": "337.2200"
                                },
                                {
                                    "0": "LL Road Frame -",
                                    "1": "337.2200"
                                },
                                {
                                    "0": "Mountain-100 Bl",
                                    "1": "3374.9900"
                                },
                                {
                                    "0": "Mountain-100 Bl",
                                    "1": "3374.9900"
                                },
                                {
                                    "0": "Mountain-100 Bl",
                                    "1": "3374.9900"
                                },
                                {
                                    "0": "Mountain-100 Bl",
                                    "1": "3374.9900"
                                },
                                {
                                    "0": "HL Road Front W",
                                    "1": "330.0600"
                                },
                                {
                                    "0": "LL Touring Fram",
                                    "1": "333.4200"
                                },
                                {
                                    "0": "LL Touring Fram",
                                    "1": "333.4200"
                                },
                                {
                                    "0": "LL Touring Fram",
                                    "1": "333.4200"
                                },
                                {
                                    "0": "LL Touring Fram",
                                    "1": "333.4200"
                                },
                                {
                                    "0": "LL Touring Fram",
                                    "1": "333.4200"
                                },
                                {
                                    "0": "LL Touring Fram",
                                    "1": "333.4200"
                                },
                                {
                                    "0": "LL Touring Fram",
                                    "1": "333.4200"
                                },
                                {
                                    "0": "LL Touring Fram",
                                    "1": "333.4200"
                                },
                                {
                                    "0": "LL Touring Fram",
                                    "1": "333.4200"
                                },
                                {
                                    "0": "LL Touring Fram",
                                    "1": "333.4200"
                                },
                                {
                                    "0": "HL Road Tire",
                                    "1": "32.6000"
                                }
                            ]
                        },
                        "text/html": [
                            "<table>",
                            "<tr><th>ProductName</th><th>ListPrice</th></tr>",
                            "<tr><td>LL Road Frame -</td><td>337.2200</td></tr>",
                            "<tr><td>LL Road Frame -</td><td>337.2200</td></tr>",
                            "<tr><td>LL Road Frame -</td><td>337.2200</td></tr>",
                            "<tr><td>LL Road Frame -</td><td>337.2200</td></tr>",
                            "<tr><td>LL Road Frame -</td><td>337.2200</td></tr>",
                            "<tr><td>LL Road Frame -</td><td>337.2200</td></tr>",
                            "<tr><td>LL Road Frame -</td><td>337.2200</td></tr>",
                            "<tr><td>LL Road Frame -</td><td>337.2200</td></tr>",
                            "<tr><td>LL Road Frame -</td><td>337.2200</td></tr>",
                            "<tr><td>LL Road Frame -</td><td>337.2200</td></tr>",
                            "<tr><td>LL Road Frame -</td><td>337.2200</td></tr>",
                            "<tr><td>LL Road Frame -</td><td>337.2200</td></tr>",
                            "<tr><td>Mountain-100 Bl</td><td>3374.9900</td></tr>",
                            "<tr><td>Mountain-100 Bl</td><td>3374.9900</td></tr>",
                            "<tr><td>Mountain-100 Bl</td><td>3374.9900</td></tr>",
                            "<tr><td>Mountain-100 Bl</td><td>3374.9900</td></tr>",
                            "<tr><td>HL Road Front W</td><td>330.0600</td></tr>",
                            "<tr><td>LL Touring Fram</td><td>333.4200</td></tr>",
                            "<tr><td>LL Touring Fram</td><td>333.4200</td></tr>",
                            "<tr><td>LL Touring Fram</td><td>333.4200</td></tr>",
                            "<tr><td>LL Touring Fram</td><td>333.4200</td></tr>",
                            "<tr><td>LL Touring Fram</td><td>333.4200</td></tr>",
                            "<tr><td>LL Touring Fram</td><td>333.4200</td></tr>",
                            "<tr><td>LL Touring Fram</td><td>333.4200</td></tr>",
                            "<tr><td>LL Touring Fram</td><td>333.4200</td></tr>",
                            "<tr><td>LL Touring Fram</td><td>333.4200</td></tr>",
                            "<tr><td>LL Touring Fram</td><td>333.4200</td></tr>",
                            "<tr><td>HL Road Tire</td><td>32.6000</td></tr>",
                            "</table>"
                        ]
                    }
                }
            ],
            "execution_count": 46
        },
        {
            "cell_type": "code",
            "source": [
                "-- Use CAST  \r\n",
                "USE AdventureWorks2019;  \r\n",
                "GO\r\n",
                "SELECT SUBSTRING(Name, 1, 30) AS ProductName, ListPrice\r\n",
                "FROM Production.Product\r\n",
                "WHERE CAST(ListPrice AS int) LIKE '33%';  \r\n",
                "GO"
            ],
            "metadata": {
                "azdata_cell_guid": "3c2b844b-82c3-4307-a57a-cee5eba4fb7b"
            },
            "outputs": [
                {
                    "output_type": "display_data",
                    "data": {
                        "text/html": "Commands completed successfully."
                    },
                    "metadata": {}
                },
                {
                    "output_type": "display_data",
                    "data": {
                        "text/html": "(28 rows affected)"
                    },
                    "metadata": {}
                },
                {
                    "output_type": "display_data",
                    "data": {
                        "text/html": "Total execution time: 00:00:00.064"
                    },
                    "metadata": {}
                },
                {
                    "output_type": "execute_result",
                    "metadata": {},
                    "execution_count": 32,
                    "data": {
                        "application/vnd.dataresource+json": {
                            "schema": {
                                "fields": [
                                    {
                                        "name": "ProductName"
                                    },
                                    {
                                        "name": "ListPrice"
                                    }
                                ]
                            },
                            "data": [
                                {
                                    "0": "LL Road Frame - Black, 58",
                                    "1": "337.2200"
                                },
                                {
                                    "0": "LL Road Frame - Black, 60",
                                    "1": "337.2200"
                                },
                                {
                                    "0": "LL Road Frame - Black, 62",
                                    "1": "337.2200"
                                },
                                {
                                    "0": "LL Road Frame - Red, 44",
                                    "1": "337.2200"
                                },
                                {
                                    "0": "LL Road Frame - Red, 48",
                                    "1": "337.2200"
                                },
                                {
                                    "0": "LL Road Frame - Red, 52",
                                    "1": "337.2200"
                                },
                                {
                                    "0": "LL Road Frame - Red, 58",
                                    "1": "337.2200"
                                },
                                {
                                    "0": "LL Road Frame - Red, 60",
                                    "1": "337.2200"
                                },
                                {
                                    "0": "LL Road Frame - Red, 62",
                                    "1": "337.2200"
                                },
                                {
                                    "0": "LL Road Frame - Black, 44",
                                    "1": "337.2200"
                                },
                                {
                                    "0": "LL Road Frame - Black, 48",
                                    "1": "337.2200"
                                },
                                {
                                    "0": "LL Road Frame - Black, 52",
                                    "1": "337.2200"
                                },
                                {
                                    "0": "Mountain-100 Black, 38",
                                    "1": "3374.9900"
                                },
                                {
                                    "0": "Mountain-100 Black, 42",
                                    "1": "3374.9900"
                                },
                                {
                                    "0": "Mountain-100 Black, 44",
                                    "1": "3374.9900"
                                },
                                {
                                    "0": "Mountain-100 Black, 48",
                                    "1": "3374.9900"
                                },
                                {
                                    "0": "HL Road Front Wheel",
                                    "1": "330.0600"
                                },
                                {
                                    "0": "LL Touring Frame - Yellow, 62",
                                    "1": "333.4200"
                                },
                                {
                                    "0": "LL Touring Frame - Blue, 50",
                                    "1": "333.4200"
                                },
                                {
                                    "0": "LL Touring Frame - Blue, 54",
                                    "1": "333.4200"
                                },
                                {
                                    "0": "LL Touring Frame - Blue, 58",
                                    "1": "333.4200"
                                },
                                {
                                    "0": "LL Touring Frame - Blue, 62",
                                    "1": "333.4200"
                                },
                                {
                                    "0": "LL Touring Frame - Yellow, 44",
                                    "1": "333.4200"
                                },
                                {
                                    "0": "LL Touring Frame - Yellow, 50",
                                    "1": "333.4200"
                                },
                                {
                                    "0": "LL Touring Frame - Yellow, 54",
                                    "1": "333.4200"
                                },
                                {
                                    "0": "LL Touring Frame - Yellow, 58",
                                    "1": "333.4200"
                                },
                                {
                                    "0": "LL Touring Frame - Blue, 44",
                                    "1": "333.4200"
                                },
                                {
                                    "0": "HL Road Tire",
                                    "1": "32.6000"
                                }
                            ]
                        },
                        "text/html": [
                            "<table>",
                            "<tr><th>ProductName</th><th>ListPrice</th></tr>",
                            "<tr><td>LL Road Frame - Black, 58</td><td>337.2200</td></tr>",
                            "<tr><td>LL Road Frame - Black, 60</td><td>337.2200</td></tr>",
                            "<tr><td>LL Road Frame - Black, 62</td><td>337.2200</td></tr>",
                            "<tr><td>LL Road Frame - Red, 44</td><td>337.2200</td></tr>",
                            "<tr><td>LL Road Frame - Red, 48</td><td>337.2200</td></tr>",
                            "<tr><td>LL Road Frame - Red, 52</td><td>337.2200</td></tr>",
                            "<tr><td>LL Road Frame - Red, 58</td><td>337.2200</td></tr>",
                            "<tr><td>LL Road Frame - Red, 60</td><td>337.2200</td></tr>",
                            "<tr><td>LL Road Frame - Red, 62</td><td>337.2200</td></tr>",
                            "<tr><td>LL Road Frame - Black, 44</td><td>337.2200</td></tr>",
                            "<tr><td>LL Road Frame - Black, 48</td><td>337.2200</td></tr>",
                            "<tr><td>LL Road Frame - Black, 52</td><td>337.2200</td></tr>",
                            "<tr><td>Mountain-100 Black, 38</td><td>3374.9900</td></tr>",
                            "<tr><td>Mountain-100 Black, 42</td><td>3374.9900</td></tr>",
                            "<tr><td>Mountain-100 Black, 44</td><td>3374.9900</td></tr>",
                            "<tr><td>Mountain-100 Black, 48</td><td>3374.9900</td></tr>",
                            "<tr><td>HL Road Front Wheel</td><td>330.0600</td></tr>",
                            "<tr><td>LL Touring Frame - Yellow, 62</td><td>333.4200</td></tr>",
                            "<tr><td>LL Touring Frame - Blue, 50</td><td>333.4200</td></tr>",
                            "<tr><td>LL Touring Frame - Blue, 54</td><td>333.4200</td></tr>",
                            "<tr><td>LL Touring Frame - Blue, 58</td><td>333.4200</td></tr>",
                            "<tr><td>LL Touring Frame - Blue, 62</td><td>333.4200</td></tr>",
                            "<tr><td>LL Touring Frame - Yellow, 44</td><td>333.4200</td></tr>",
                            "<tr><td>LL Touring Frame - Yellow, 50</td><td>333.4200</td></tr>",
                            "<tr><td>LL Touring Frame - Yellow, 54</td><td>333.4200</td></tr>",
                            "<tr><td>LL Touring Frame - Yellow, 58</td><td>333.4200</td></tr>",
                            "<tr><td>LL Touring Frame - Blue, 44</td><td>333.4200</td></tr>",
                            "<tr><td>HL Road Tire</td><td>32.6000</td></tr>",
                            "</table>"
                        ]
                    }
                }
            ],
            "execution_count": 32
        },
        {
            "cell_type": "markdown",
            "source": [
                "### Using CAST with arithmetic operators\n",
                "\n",
                "<span style=\"color: rgb(36, 41, 46); font-family: -apple-system, BlinkMacSystemFont, &quot;Segoe UI&quot;, Helvetica, Arial, sans-serif, &quot;Apple Color Emoji&quot;, &quot;Segoe UI Emoji&quot;; font-size: 16px; background-color: rgb(255, 255, 255);\">This example calculates a single column value by dividing the product unit price (</span>`UnitPrice`<span style=\"color: rgb(36, 41, 46); font-family: -apple-system, BlinkMacSystemFont, &quot;Segoe UI&quot;, Helvetica, Arial, sans-serif, &quot;Apple Color Emoji&quot;, &quot;Segoe UI Emoji&quot;; font-size: 16px; background-color: rgb(255, 255, 255);\">) by the discount percentage (</span>`UnitPriceDiscountPct`<span style=\"color: rgb(36, 41, 46); font-family: -apple-system, BlinkMacSystemFont, &quot;Segoe UI&quot;, Helvetica, Arial, sans-serif, &quot;Apple Color Emoji&quot;, &quot;Segoe UI Emoji&quot;; font-size: 16px; background-color: rgb(255, 255, 255);\">). This result is then rounded to the nearest whole number, and finally converted to an&nbsp;</span> `int` <span style=\"color: rgb(36, 41, 46); font-family: -apple-system, BlinkMacSystemFont, &quot;Segoe UI&quot;, Helvetica, Arial, sans-serif, &quot;Apple Color Emoji&quot;, &quot;Segoe UI Emoji&quot;; font-size: 16px; background-color: rgb(255, 255, 255);\">&nbsp;data type. This example uses the&nbsp;</span> `AdventureWorksDW2016` <span style=\"color: rgb(36, 41, 46); font-family: -apple-system, BlinkMacSystemFont, &quot;Segoe UI&quot;, Helvetica, Arial, sans-serif, &quot;Apple Color Emoji&quot;, &quot;Segoe UI Emoji&quot;; font-size: 16px; background-color: rgb(255, 255, 255);\">&nbsp;database.</span>"
            ],
            "metadata": {
                "azdata_cell_guid": "bf26f6df-4e6e-4cf4-afc7-5d6408287ff4"
            },
            "attachments": {}
        },
        {
            "cell_type": "code",
            "source": [
                "use AdventureWorksDW2019\r\n",
                "\r\n",
                "SELECT ProductKey, UnitPrice,UnitPriceDiscountPct,  \r\n",
                "       CAST(ROUND (UnitPrice*UnitPriceDiscountPct,0) AS int) AS DiscountPrice  \r\n",
                "FROM dbo.FactResellerSales  \r\n",
                "WHERE SalesOrderNumber = 'SO47355'   \r\n",
                "      AND UnitPriceDiscountPct > .02;  \r\n",
                ""
            ],
            "metadata": {
                "azdata_cell_guid": "a6a5ec47-5d12-413e-a05e-6542f0929b14"
            },
            "outputs": [
                {
                    "output_type": "display_data",
                    "data": {
                        "text/html": "(5 rows affected)"
                    },
                    "metadata": {}
                },
                {
                    "output_type": "display_data",
                    "data": {
                        "text/html": "Total execution time: 00:00:00.055"
                    },
                    "metadata": {}
                },
                {
                    "output_type": "execute_result",
                    "metadata": {},
                    "execution_count": 33,
                    "data": {
                        "application/vnd.dataresource+json": {
                            "schema": {
                                "fields": [
                                    {
                                        "name": "ProductKey"
                                    },
                                    {
                                        "name": "UnitPrice"
                                    },
                                    {
                                        "name": "UnitPriceDiscountPct"
                                    },
                                    {
                                        "name": "DiscountPrice"
                                    }
                                ]
                            },
                            "data": [
                                {
                                    "0": "323",
                                    "1": "430.6445",
                                    "2": "0.05",
                                    "3": "22"
                                },
                                {
                                    "0": "213",
                                    "1": "18.5043",
                                    "2": "0.05",
                                    "3": "1"
                                },
                                {
                                    "0": "456",
                                    "1": "37.4950",
                                    "2": "0.1",
                                    "3": "4"
                                },
                                {
                                    "0": "460",
                                    "1": "49.4945",
                                    "2": "0.05",
                                    "3": "2"
                                },
                                {
                                    "0": "216",
                                    "1": "18.5043",
                                    "2": "0.05",
                                    "3": "1"
                                }
                            ]
                        },
                        "text/html": [
                            "<table>",
                            "<tr><th>ProductKey</th><th>UnitPrice</th><th>UnitPriceDiscountPct</th><th>DiscountPrice</th></tr>",
                            "<tr><td>323</td><td>430.6445</td><td>0.05</td><td>22</td></tr>",
                            "<tr><td>213</td><td>18.5043</td><td>0.05</td><td>1</td></tr>",
                            "<tr><td>456</td><td>37.4950</td><td>0.1</td><td>4</td></tr>",
                            "<tr><td>460</td><td>49.4945</td><td>0.05</td><td>2</td></tr>",
                            "<tr><td>216</td><td>18.5043</td><td>0.05</td><td>1</td></tr>",
                            "</table>"
                        ]
                    }
                }
            ],
            "execution_count": 33
        },
        {
            "cell_type": "markdown",
            "source": [
                "### Converting date and time data types"
            ],
            "metadata": {
                "azdata_cell_guid": "2a730330-a3d9-4752-ab8e-6340ee9473a3"
            },
            "attachments": {}
        },
        {
            "cell_type": "code",
            "source": [
                "DECLARE @d1 DATE, @t1 TIME, @dt1 DATETIME;  \r\n",
                "SET @d1 = GETDATE();  \r\n",
                "SET @t1 = GETDATE();  \r\n",
                "SET @dt1 = GETDATE();  \r\n",
                "SET @d1 = GETDATE();  \r\n",
                "-- When converting date to datetime the minutes portion becomes zero.  \r\n",
                "SELECT @d1 AS [DATE], CAST (@d1 AS DATETIME) AS [date as datetime];  \r\n",
                "-- When converting time to datetime the date portion becomes zero   \r\n",
                "-- which converts to January 1, 1900.  \r\n",
                "SELECT @t1 AS [TIME], CAST (@t1 AS DATETIME) AS [time as datetime];  \r\n",
                "-- When converting datetime to date or time non-applicable portion is dropped.  \r\n",
                "SELECT @dt1 AS [DATETIME], CAST (@dt1 AS DATE) AS [datetime as date], \r\n",
                "   CAST (@dt1 AS TIME) AS [datetime as time];  \r\n",
                ""
            ],
            "metadata": {
                "azdata_cell_guid": "24251f00-ca63-4d79-a1df-0be7634edf28"
            },
            "outputs": [
                {
                    "output_type": "display_data",
                    "data": {
                        "text/html": "(1 row affected)"
                    },
                    "metadata": {}
                },
                {
                    "output_type": "display_data",
                    "data": {
                        "text/html": "(1 row affected)"
                    },
                    "metadata": {}
                },
                {
                    "output_type": "display_data",
                    "data": {
                        "text/html": "(1 row affected)"
                    },
                    "metadata": {}
                },
                {
                    "output_type": "display_data",
                    "data": {
                        "text/html": "Total execution time: 00:00:00.040"
                    },
                    "metadata": {}
                },
                {
                    "output_type": "execute_result",
                    "metadata": {},
                    "execution_count": 47,
                    "data": {
                        "application/vnd.dataresource+json": {
                            "schema": {
                                "fields": [
                                    {
                                        "name": "DATE"
                                    },
                                    {
                                        "name": "date as datetime"
                                    }
                                ]
                            },
                            "data": [
                                {
                                    "0": "2021-08-09",
                                    "1": "2021-08-09 00:00:00.000"
                                }
                            ]
                        },
                        "text/html": [
                            "<table>",
                            "<tr><th>DATE</th><th>date as datetime</th></tr>",
                            "<tr><td>2021-08-09</td><td>2021-08-09 00:00:00.000</td></tr>",
                            "</table>"
                        ]
                    }
                },
                {
                    "output_type": "execute_result",
                    "metadata": {},
                    "execution_count": 47,
                    "data": {
                        "application/vnd.dataresource+json": {
                            "schema": {
                                "fields": [
                                    {
                                        "name": "TIME"
                                    },
                                    {
                                        "name": "time as datetime"
                                    }
                                ]
                            },
                            "data": [
                                {
                                    "0": "20:55:32.1300000",
                                    "1": "1900-01-01 20:55:32.130"
                                }
                            ]
                        },
                        "text/html": [
                            "<table>",
                            "<tr><th>TIME</th><th>time as datetime</th></tr>",
                            "<tr><td>20:55:32.1300000</td><td>1900-01-01 20:55:32.130</td></tr>",
                            "</table>"
                        ]
                    }
                },
                {
                    "output_type": "execute_result",
                    "metadata": {},
                    "execution_count": 47,
                    "data": {
                        "application/vnd.dataresource+json": {
                            "schema": {
                                "fields": [
                                    {
                                        "name": "DATETIME"
                                    },
                                    {
                                        "name": "datetime as date"
                                    },
                                    {
                                        "name": "datetime as time"
                                    }
                                ]
                            },
                            "data": [
                                {
                                    "0": "2021-08-09 20:55:32.130",
                                    "1": "2021-08-09",
                                    "2": "20:55:32.1300000"
                                }
                            ]
                        },
                        "text/html": [
                            "<table>",
                            "<tr><th>DATETIME</th><th>datetime as date</th><th>datetime as time</th></tr>",
                            "<tr><td>2021-08-09 20:55:32.130</td><td>2021-08-09</td><td>20:55:32.1300000</td></tr>",
                            "</table>"
                        ]
                    }
                }
            ],
            "execution_count": 47
        },
        {
            "cell_type": "markdown",
            "source": [
                "![](attachment:image.png)\n",
                "\n",
                "![](attachment:image0.png)"
            ],
            "metadata": {
                "azdata_cell_guid": "2d9d1833-5e2c-44ce-b54a-6bffcb7edcb5"
            },
            "attachments": {
                "image.png": {
                    "image/png": "[encoded data removed]"
                },
                "image0.png": {
                    "image/png": "[encoded data removed]"
                }
            }
        },
        {
            "cell_type": "markdown",
            "source": [
                "### Using CAST and CONVERT with datetime data\n",
                "\n",
                "<mark><span style=\"color: rgb(36, 41, 46); font-family: -apple-system, BlinkMacSystemFont, &quot;Segoe UI&quot;, Helvetica, Arial, sans-serif, &quot;Apple Color Emoji&quot;, &quot;Segoe UI Emoji&quot;; font-size: 16px;\">This example displays the current date and time, uses CAST to change the current date and time to a character data type, and finally uses CONVERT display the date and time in the ISO 8601 format. This example uses the&nbsp;</span> `AdventureWorksDW2016` <span style=\"color: rgb(36, 41, 46); font-family: -apple-system, BlinkMacSystemFont, &quot;Segoe UI&quot;, Helvetica, Arial, sans-serif, &quot;Apple Color Emoji&quot;, &quot;Segoe UI Emoji&quot;; font-size: 16px;\">&nbsp;database.</span></mark>  \n",
                "\n",
                "<mark><span style=\"color: rgb(36, 41, 46); font-family: -apple-system, BlinkMacSystemFont, &quot;Segoe UI&quot;, Helvetica, Arial, sans-serif, &quot;Apple Color Emoji&quot;, &quot;Segoe UI Emoji&quot;; font-size: 16px;\"><br></span></mark>"
            ],
            "metadata": {
                "azdata_cell_guid": "a662393b-db2f-472f-a9cb-49c152564def"
            },
            "attachments": {}
        },
        {
            "cell_type": "code",
            "source": [
                "use AdventureWorksDW2019\n",
                "\n",
                "SELECT TOP(1)  \n",
                "   SYSDATETIME() AS UnconvertedDateTime,  \n",
                "   CAST(SYSDATETIME() AS NVARCHAR(30)) AS UsingCast,  \n",
                "   CONVERT(NVARCHAR(30), SYSDATETIME(), 126) AS UsingConvertTo_ISO8601  \n",
                "FROM dbo.DimCustomer;  \n",
                ""
            ],
            "metadata": {
                "azdata_cell_guid": "c255d3be-29b1-4868-859c-e1291b878a2d"
            },
            "outputs": [
                {
                    "output_type": "display_data",
                    "data": {
                        "text/html": "(1 row affected)"
                    },
                    "metadata": {}
                },
                {
                    "output_type": "display_data",
                    "data": {
                        "text/html": "Total execution time: 00:00:00.053"
                    },
                    "metadata": {}
                },
                {
                    "output_type": "execute_result",
                    "metadata": {},
                    "execution_count": 48,
                    "data": {
                        "application/vnd.dataresource+json": {
                            "schema": {
                                "fields": [
                                    {
                                        "name": "UnconvertedDateTime"
                                    },
                                    {
                                        "name": "UsingCast"
                                    },
                                    {
                                        "name": "UsingConvertTo_ISO8601"
                                    }
                                ]
                            },
                            "data": [
                                {
                                    "0": "2021-08-09 21:01:35.5754349",
                                    "1": "2021-08-09 21:01:35.5754349",
                                    "2": "2021-08-09T21:01:35.5754349"
                                }
                            ]
                        },
                        "text/html": [
                            "<table>",
                            "<tr><th>UnconvertedDateTime</th><th>UsingCast</th><th>UsingConvertTo_ISO8601</th></tr>",
                            "<tr><td>2021-08-09 21:01:35.5754349</td><td>2021-08-09 21:01:35.5754349</td><td>2021-08-09T21:01:35.5754349</td></tr>",
                            "</table>"
                        ]
                    }
                }
            ],
            "execution_count": 48
        },
        {
            "cell_type": "markdown",
            "source": [
                "\\-----------------------------------------------------------------"
            ],
            "metadata": {
                "azdata_cell_guid": "69ed9a75-248b-4adf-9cc4-771d2d4be347"
            },
            "attachments": {}
        },
        {
            "cell_type": "code",
            "source": [
                "SELECT \r\n",
                "SUBSTRING('Hi, You are on SQLSHACK.COM', 16, 12) result;"
            ],
            "metadata": {
                "azdata_cell_guid": "e02cdf49-ff3b-4389-a79c-ddb28dfc2ef7"
            },
            "outputs": [
                {
                    "output_type": "display_data",
                    "data": {
                        "text/html": "(1 row affected)"
                    },
                    "metadata": {}
                },
                {
                    "output_type": "display_data",
                    "data": {
                        "text/html": "Total execution time: 00:00:00.017"
                    },
                    "metadata": {}
                },
                {
                    "output_type": "execute_result",
                    "metadata": {},
                    "execution_count": 49,
                    "data": {
                        "application/vnd.dataresource+json": {
                            "schema": {
                                "fields": [
                                    {
                                        "name": "result"
                                    }
                                ]
                            },
                            "data": [
                                {
                                    "0": "SQLSHACK.COM"
                                }
                            ]
                        },
                        "text/html": [
                            "<table>",
                            "<tr><th>result</th></tr>",
                            "<tr><td>SQLSHACK.COM</td></tr>",
                            "</table>"
                        ]
                    }
                }
            ],
            "execution_count": 49
        },
        {
            "cell_type": "code",
            "source": [
                "--Return the first non-null value in a list:\r\n",
                "SELECT COALESCE(NULL, NULL, NULL, 'W3Schools.com', NULL, 'Example.com');"
            ],
            "metadata": {
                "azdata_cell_guid": "4aae5886-537a-446e-a06a-626d8a5a8c43"
            },
            "outputs": [
                {
                    "output_type": "display_data",
                    "data": {
                        "text/html": "(1 row affected)"
                    },
                    "metadata": {}
                },
                {
                    "output_type": "display_data",
                    "data": {
                        "text/html": "Total execution time: 00:00:00.006"
                    },
                    "metadata": {}
                },
                {
                    "output_type": "execute_result",
                    "metadata": {},
                    "execution_count": 50,
                    "data": {
                        "application/vnd.dataresource+json": {
                            "schema": {
                                "fields": [
                                    {
                                        "name": "(No column name)"
                                    }
                                ]
                            },
                            "data": [
                                {
                                    "0": "W3Schools.com"
                                }
                            ]
                        },
                        "text/html": [
                            "<table>",
                            "<tr><th>(No column name)</th></tr>",
                            "<tr><td>W3Schools.com</td></tr>",
                            "</table>"
                        ]
                    }
                }
            ],
            "execution_count": 50
        },
        {
            "cell_type": "code",
            "source": [
                "SELECT ISNULL(NULL, 'W3Schools.com');"
            ],
            "metadata": {
                "azdata_cell_guid": "9fd4bfce-73c3-4385-bb43-beb662cf38fa",
                "language": ""
            },
            "outputs": [
                {
                    "output_type": "display_data",
                    "data": {
                        "text/html": "(1 row affected)"
                    },
                    "metadata": {}
                },
                {
                    "output_type": "display_data",
                    "data": {
                        "text/html": "Total execution time: 00:00:00.016"
                    },
                    "metadata": {}
                },
                {
                    "output_type": "execute_result",
                    "metadata": {},
                    "execution_count": 51,
                    "data": {
                        "application/vnd.dataresource+json": {
                            "schema": {
                                "fields": [
                                    {
                                        "name": "(No column name)"
                                    }
                                ]
                            },
                            "data": [
                                {
                                    "0": "W3Schools.com"
                                }
                            ]
                        },
                        "text/html": [
                            "<table>",
                            "<tr><th>(No column name)</th></tr>",
                            "<tr><td>W3Schools.com</td></tr>",
                            "</table>"
                        ]
                    }
                }
            ],
            "execution_count": 51
        },
        {
            "cell_type": "code",
            "source": [
                "print len('Prueba')-1\r\n",
                "print SUBSTRING ('Prueba',5,2)"
            ],
            "metadata": {
                "azdata_cell_guid": "7152a94c-cdeb-42f7-b60e-ca8a88ac736a"
            },
            "outputs": [
                {
                    "output_type": "display_data",
                    "data": {
                        "text/html": "5"
                    },
                    "metadata": {}
                },
                {
                    "output_type": "display_data",
                    "data": {
                        "text/html": "ba"
                    },
                    "metadata": {}
                },
                {
                    "output_type": "display_data",
                    "data": {
                        "text/html": "Total execution time: 00:00:00.001"
                    },
                    "metadata": {}
                }
            ],
            "execution_count": 59
        },
        {
            "cell_type": "code",
            "source": [
                "Select firstname ,lastname,len(lastname) as LastNameLength\r\n",
                "FROM \r\n",
                "  AdventureWorks2019.Person.Person\r\n",
                "WHERE \r\n",
                " SUBSTRING(FirstName, LEN(FirstName)-2,3) = 'gel'\r\n",
                ""
            ],
            "metadata": {
                "azdata_cell_guid": "a86734ca-cd63-4b55-af45-00180b3d1483",
                "tags": []
            },
            "outputs": [
                {
                    "output_type": "display_data",
                    "data": {
                        "text/html": "(45 rows affected)"
                    },
                    "metadata": {}
                },
                {
                    "output_type": "display_data",
                    "data": {
                        "text/html": "Total execution time: 00:00:00.020"
                    },
                    "metadata": {}
                },
                {
                    "output_type": "execute_result",
                    "metadata": {},
                    "execution_count": 61,
                    "data": {
                        "application/vnd.dataresource+json": {
                            "schema": {
                                "fields": [
                                    {
                                        "name": "firstname"
                                    },
                                    {
                                        "name": "lastname"
                                    },
                                    {
                                        "name": "LastNameLength"
                                    }
                                ]
                            },
                            "data": [
                                {
                                    "0": "Angel",
                                    "1": "Adams",
                                    "2": "5"
                                },
                                {
                                    "0": "Angel",
                                    "1": "Allen",
                                    "2": "5"
                                },
                                {
                                    "0": "Angel",
                                    "1": "Bailey",
                                    "2": "6"
                                },
                                {
                                    "0": "Angel",
                                    "1": "Baker",
                                    "2": "5"
                                },
                                {
                                    "0": "Angel",
                                    "1": "Brooks",
                                    "2": "6"
                                },
                                {
                                    "0": "Angel",
                                    "1": "Campbell",
                                    "2": "8"
                                },
                                {
                                    "0": "Angel",
                                    "1": "Carter",
                                    "2": "6"
                                },
                                {
                                    "0": "Angel",
                                    "1": "Cook",
                                    "2": "4"
                                },
                                {
                                    "0": "Angel",
                                    "1": "Cooper",
                                    "2": "6"
                                },
                                {
                                    "0": "Angel",
                                    "1": "Cox",
                                    "2": "3"
                                },
                                {
                                    "0": "Angel",
                                    "1": "Edwards",
                                    "2": "7"
                                },
                                {
                                    "0": "Angel",
                                    "1": "Evans",
                                    "2": "5"
                                },
                                {
                                    "0": "Angel",
                                    "1": "Gonzalez",
                                    "2": "8"
                                },
                                {
                                    "0": "Angel",
                                    "1": "Gray",
                                    "2": "4"
                                },
                                {
                                    "0": "Angel",
                                    "1": "Hall",
                                    "2": "4"
                                },
                                {
                                    "0": "Angel",
                                    "1": "Hill",
                                    "2": "4"
                                },
                                {
                                    "0": "Angel",
                                    "1": "Howard",
                                    "2": "6"
                                },
                                {
                                    "0": "Angel",
                                    "1": "James",
                                    "2": "5"
                                },
                                {
                                    "0": "Angel",
                                    "1": "Kelly",
                                    "2": "5"
                                },
                                {
                                    "0": "Angel",
                                    "1": "King",
                                    "2": "4"
                                },
                                {
                                    "0": "Angel",
                                    "1": "Lopez",
                                    "2": "5"
                                },
                                {
                                    "0": "Angel",
                                    "1": "Mitchell",
                                    "2": "8"
                                },
                                {
                                    "0": "Angel",
                                    "1": "Morgan",
                                    "2": "6"
                                },
                                {
                                    "0": "Angel",
                                    "1": "Morris",
                                    "2": "6"
                                },
                                {
                                    "0": "Angel",
                                    "1": "Murphy",
                                    "2": "6"
                                },
                                {
                                    "0": "Angel",
                                    "1": "Nelson",
                                    "2": "6"
                                },
                                {
                                    "0": "Angel",
                                    "1": "Parker",
                                    "2": "6"
                                },
                                {
                                    "0": "Angel",
                                    "1": "Perez",
                                    "2": "5"
                                },
                                {
                                    "0": "Angel",
                                    "1": "Peterson",
                                    "2": "8"
                                },
                                {
                                    "0": "Angel",
                                    "1": "Phillips",
                                    "2": "8"
                                },
                                {
                                    "0": "Angel",
                                    "1": "Ramirez",
                                    "2": "7"
                                },
                                {
                                    "0": "Angel",
                                    "1": "Reed",
                                    "2": "4"
                                },
                                {
                                    "0": "Angel",
                                    "1": "Richardson",
                                    "2": "10"
                                },
                                {
                                    "0": "Angel",
                                    "1": "Rivera",
                                    "2": "6"
                                },
                                {
                                    "0": "Angel",
                                    "1": "Roberts",
                                    "2": "7"
                                },
                                {
                                    "0": "Angel",
                                    "1": "Rogers",
                                    "2": "6"
                                },
                                {
                                    "0": "Angel",
                                    "1": "Sanders",
                                    "2": "7"
                                },
                                {
                                    "0": "Angel",
                                    "1": "Scott",
                                    "2": "5"
                                },
                                {
                                    "0": "Angel",
                                    "1": "Stewart",
                                    "2": "7"
                                },
                                {
                                    "0": "Angel",
                                    "1": "Torres",
                                    "2": "6"
                                },
                                {
                                    "0": "Angel",
                                    "1": "Turner",
                                    "2": "6"
                                },
                                {
                                    "0": "Angel",
                                    "1": "Ward",
                                    "2": "4"
                                },
                                {
                                    "0": "Nigel",
                                    "1": "Westbury",
                                    "2": "8"
                                },
                                {
                                    "0": "Angel",
                                    "1": "Wright",
                                    "2": "6"
                                },
                                {
                                    "0": "Angel",
                                    "1": "Young",
                                    "2": "5"
                                }
                            ]
                        },
                        "text/html": [
                            "<table>",
                            "<tr><th>firstname</th><th>lastname</th><th>LastNameLength</th></tr>",
                            "<tr><td>Angel</td><td>Adams</td><td>5</td></tr>",
                            "<tr><td>Angel</td><td>Allen</td><td>5</td></tr>",
                            "<tr><td>Angel</td><td>Bailey</td><td>6</td></tr>",
                            "<tr><td>Angel</td><td>Baker</td><td>5</td></tr>",
                            "<tr><td>Angel</td><td>Brooks</td><td>6</td></tr>",
                            "<tr><td>Angel</td><td>Campbell</td><td>8</td></tr>",
                            "<tr><td>Angel</td><td>Carter</td><td>6</td></tr>",
                            "<tr><td>Angel</td><td>Cook</td><td>4</td></tr>",
                            "<tr><td>Angel</td><td>Cooper</td><td>6</td></tr>",
                            "<tr><td>Angel</td><td>Cox</td><td>3</td></tr>",
                            "<tr><td>Angel</td><td>Edwards</td><td>7</td></tr>",
                            "<tr><td>Angel</td><td>Evans</td><td>5</td></tr>",
                            "<tr><td>Angel</td><td>Gonzalez</td><td>8</td></tr>",
                            "<tr><td>Angel</td><td>Gray</td><td>4</td></tr>",
                            "<tr><td>Angel</td><td>Hall</td><td>4</td></tr>",
                            "<tr><td>Angel</td><td>Hill</td><td>4</td></tr>",
                            "<tr><td>Angel</td><td>Howard</td><td>6</td></tr>",
                            "<tr><td>Angel</td><td>James</td><td>5</td></tr>",
                            "<tr><td>Angel</td><td>Kelly</td><td>5</td></tr>",
                            "<tr><td>Angel</td><td>King</td><td>4</td></tr>",
                            "<tr><td>Angel</td><td>Lopez</td><td>5</td></tr>",
                            "<tr><td>Angel</td><td>Mitchell</td><td>8</td></tr>",
                            "<tr><td>Angel</td><td>Morgan</td><td>6</td></tr>",
                            "<tr><td>Angel</td><td>Morris</td><td>6</td></tr>",
                            "<tr><td>Angel</td><td>Murphy</td><td>6</td></tr>",
                            "<tr><td>Angel</td><td>Nelson</td><td>6</td></tr>",
                            "<tr><td>Angel</td><td>Parker</td><td>6</td></tr>",
                            "<tr><td>Angel</td><td>Perez</td><td>5</td></tr>",
                            "<tr><td>Angel</td><td>Peterson</td><td>8</td></tr>",
                            "<tr><td>Angel</td><td>Phillips</td><td>8</td></tr>",
                            "<tr><td>Angel</td><td>Ramirez</td><td>7</td></tr>",
                            "<tr><td>Angel</td><td>Reed</td><td>4</td></tr>",
                            "<tr><td>Angel</td><td>Richardson</td><td>10</td></tr>",
                            "<tr><td>Angel</td><td>Rivera</td><td>6</td></tr>",
                            "<tr><td>Angel</td><td>Roberts</td><td>7</td></tr>",
                            "<tr><td>Angel</td><td>Rogers</td><td>6</td></tr>",
                            "<tr><td>Angel</td><td>Sanders</td><td>7</td></tr>",
                            "<tr><td>Angel</td><td>Scott</td><td>5</td></tr>",
                            "<tr><td>Angel</td><td>Stewart</td><td>7</td></tr>",
                            "<tr><td>Angel</td><td>Torres</td><td>6</td></tr>",
                            "<tr><td>Angel</td><td>Turner</td><td>6</td></tr>",
                            "<tr><td>Angel</td><td>Ward</td><td>4</td></tr>",
                            "<tr><td>Nigel</td><td>Westbury</td><td>8</td></tr>",
                            "<tr><td>Angel</td><td>Wright</td><td>6</td></tr>",
                            "<tr><td>Angel</td><td>Young</td><td>5</td></tr>",
                            "</table>"
                        ]
                    }
                }
            ],
            "execution_count": 61
        },
        {
            "cell_type": "code",
            "source": [
                "SELECT Charindex('EducacionIT', 'Hola, estamos en una clase de EducacionIT') as Posicion"
            ],
            "metadata": {
                "azdata_cell_guid": "1e4bf243-7fe5-4b97-8887-9cbcd1671025"
            },
            "outputs": [
                {
                    "output_type": "display_data",
                    "data": {
                        "text/html": "(1 row affected)"
                    },
                    "metadata": {}
                },
                {
                    "output_type": "display_data",
                    "data": {
                        "text/html": "Total execution time: 00:00:00.009"
                    },
                    "metadata": {}
                },
                {
                    "output_type": "execute_result",
                    "metadata": {},
                    "execution_count": 62,
                    "data": {
                        "application/vnd.dataresource+json": {
                            "schema": {
                                "fields": [
                                    {
                                        "name": "Posicion"
                                    }
                                ]
                            },
                            "data": [
                                {
                                    "0": "31"
                                }
                            ]
                        },
                        "text/html": [
                            "<table>",
                            "<tr><th>Posicion</th></tr>",
                            "<tr><td>31</td></tr>",
                            "</table>"
                        ]
                    }
                }
            ],
            "execution_count": 62
        },
        {
            "cell_type": "code",
            "source": [
                "Select LEN('HELLO') "
            ],
            "metadata": {
                "azdata_cell_guid": "894d8323-e2ed-4ce8-82fc-5fc8b0edcb6e"
            },
            "outputs": [
                {
                    "output_type": "display_data",
                    "data": {
                        "text/html": "(1 row affected)"
                    },
                    "metadata": {}
                },
                {
                    "output_type": "display_data",
                    "data": {
                        "text/html": "Total execution time: 00:00:00.008"
                    },
                    "metadata": {}
                },
                {
                    "output_type": "execute_result",
                    "metadata": {},
                    "execution_count": 63,
                    "data": {
                        "application/vnd.dataresource+json": {
                            "schema": {
                                "fields": [
                                    {
                                        "name": "(No column name)"
                                    }
                                ]
                            },
                            "data": [
                                {
                                    "0": "5"
                                }
                            ]
                        },
                        "text/html": [
                            "<table>",
                            "<tr><th>(No column name)</th></tr>",
                            "<tr><td>5</td></tr>",
                            "</table>"
                        ]
                    }
                }
            ],
            "execution_count": 63
        },
        {
            "cell_type": "code",
            "source": [
                "Select LEFT('WORLD', 4)\r\n",
                "Select RIGHT('INDIA', 3)\r\n",
                "Select SUBSTRING ('WORLD', 1,3) \r\n",
                "Select SUBSTRING ('INDIA', 3,3) \r\n",
                "Select SUBSTRING ('KING', 2,3)"
            ],
            "metadata": {
                "azdata_cell_guid": "8d1a5e3c-fff7-4caf-81df-ef264cfb42a4"
            },
            "outputs": [
                {
                    "output_type": "display_data",
                    "data": {
                        "text/html": "(1 row affected)"
                    },
                    "metadata": {}
                },
                {
                    "output_type": "display_data",
                    "data": {
                        "text/html": "(1 row affected)"
                    },
                    "metadata": {}
                },
                {
                    "output_type": "display_data",
                    "data": {
                        "text/html": "(1 row affected)"
                    },
                    "metadata": {}
                },
                {
                    "output_type": "display_data",
                    "data": {
                        "text/html": "(1 row affected)"
                    },
                    "metadata": {}
                },
                {
                    "output_type": "display_data",
                    "data": {
                        "text/html": "(1 row affected)"
                    },
                    "metadata": {}
                },
                {
                    "output_type": "display_data",
                    "data": {
                        "text/html": "Total execution time: 00:00:00.071"
                    },
                    "metadata": {}
                },
                {
                    "output_type": "execute_result",
                    "metadata": {},
                    "execution_count": 64,
                    "data": {
                        "application/vnd.dataresource+json": {
                            "schema": {
                                "fields": [
                                    {
                                        "name": "(No column name)"
                                    }
                                ]
                            },
                            "data": [
                                {
                                    "0": "WORL"
                                }
                            ]
                        },
                        "text/html": [
                            "<table>",
                            "<tr><th>(No column name)</th></tr>",
                            "<tr><td>WORL</td></tr>",
                            "</table>"
                        ]
                    }
                },
                {
                    "output_type": "execute_result",
                    "metadata": {},
                    "execution_count": 64,
                    "data": {
                        "application/vnd.dataresource+json": {
                            "schema": {
                                "fields": [
                                    {
                                        "name": "(No column name)"
                                    }
                                ]
                            },
                            "data": [
                                {
                                    "0": "DIA"
                                }
                            ]
                        },
                        "text/html": [
                            "<table>",
                            "<tr><th>(No column name)</th></tr>",
                            "<tr><td>DIA</td></tr>",
                            "</table>"
                        ]
                    }
                },
                {
                    "output_type": "execute_result",
                    "metadata": {},
                    "execution_count": 64,
                    "data": {
                        "application/vnd.dataresource+json": {
                            "schema": {
                                "fields": [
                                    {
                                        "name": "(No column name)"
                                    }
                                ]
                            },
                            "data": [
                                {
                                    "0": "WOR"
                                }
                            ]
                        },
                        "text/html": [
                            "<table>",
                            "<tr><th>(No column name)</th></tr>",
                            "<tr><td>WOR</td></tr>",
                            "</table>"
                        ]
                    }
                },
                {
                    "output_type": "execute_result",
                    "metadata": {},
                    "execution_count": 64,
                    "data": {
                        "application/vnd.dataresource+json": {
                            "schema": {
                                "fields": [
                                    {
                                        "name": "(No column name)"
                                    }
                                ]
                            },
                            "data": [
                                {
                                    "0": "DIA"
                                }
                            ]
                        },
                        "text/html": [
                            "<table>",
                            "<tr><th>(No column name)</th></tr>",
                            "<tr><td>DIA</td></tr>",
                            "</table>"
                        ]
                    }
                },
                {
                    "output_type": "execute_result",
                    "metadata": {},
                    "execution_count": 64,
                    "data": {
                        "application/vnd.dataresource+json": {
                            "schema": {
                                "fields": [
                                    {
                                        "name": "(No column name)"
                                    }
                                ]
                            },
                            "data": [
                                {
                                    "0": "ING"
                                }
                            ]
                        },
                        "text/html": [
                            "<table>",
                            "<tr><th>(No column name)</th></tr>",
                            "<tr><td>ING</td></tr>",
                            "</table>"
                        ]
                    }
                }
            ],
            "execution_count": 64
        },
        {
            "cell_type": "code",
            "source": [
                "Select LOWER('SQLServer') \r\n",
                "Select UPPER('SqlServer')"
            ],
            "metadata": {
                "azdata_cell_guid": "3bc7dd00-42a3-4ea0-802c-ac530a532b81"
            },
            "outputs": [
                {
                    "output_type": "display_data",
                    "data": {
                        "text/html": "(1 row affected)"
                    },
                    "metadata": {}
                },
                {
                    "output_type": "display_data",
                    "data": {
                        "text/html": "(1 row affected)"
                    },
                    "metadata": {}
                },
                {
                    "output_type": "display_data",
                    "data": {
                        "text/html": "Total execution time: 00:00:00.024"
                    },
                    "metadata": {}
                },
                {
                    "output_type": "execute_result",
                    "metadata": {},
                    "execution_count": 65,
                    "data": {
                        "application/vnd.dataresource+json": {
                            "schema": {
                                "fields": [
                                    {
                                        "name": "(No column name)"
                                    }
                                ]
                            },
                            "data": [
                                {
                                    "0": "sqlserver"
                                }
                            ]
                        },
                        "text/html": [
                            "<table>",
                            "<tr><th>(No column name)</th></tr>",
                            "<tr><td>sqlserver</td></tr>",
                            "</table>"
                        ]
                    }
                },
                {
                    "output_type": "execute_result",
                    "metadata": {},
                    "execution_count": 65,
                    "data": {
                        "application/vnd.dataresource+json": {
                            "schema": {
                                "fields": [
                                    {
                                        "name": "(No column name)"
                                    }
                                ]
                            },
                            "data": [
                                {
                                    "0": "SQLSERVER"
                                }
                            ]
                        },
                        "text/html": [
                            "<table>",
                            "<tr><th>(No column name)</th></tr>",
                            "<tr><td>SQLSERVER</td></tr>",
                            "</table>"
                        ]
                    }
                }
            ],
            "execution_count": 65
        },
        {
            "cell_type": "code",
            "source": [
                "Select LTRIM('   WORLD')\r\n",
                "Select RTRIM('INDIA   ') \r\n",
                "Select REPLACE('INDIA', 'I', 'K')\r\n",
                "Select REVERSE('WORLD')"
            ],
            "metadata": {
                "azdata_cell_guid": "6770c065-ea3d-4f1d-92f7-de93d0745efe"
            },
            "outputs": [
                {
                    "output_type": "display_data",
                    "data": {
                        "text/html": "(1 row affected)"
                    },
                    "metadata": {}
                },
                {
                    "output_type": "display_data",
                    "data": {
                        "text/html": "(1 row affected)"
                    },
                    "metadata": {}
                },
                {
                    "output_type": "display_data",
                    "data": {
                        "text/html": "(1 row affected)"
                    },
                    "metadata": {}
                },
                {
                    "output_type": "display_data",
                    "data": {
                        "text/html": "(1 row affected)"
                    },
                    "metadata": {}
                },
                {
                    "output_type": "display_data",
                    "data": {
                        "text/html": "Total execution time: 00:00:00.017"
                    },
                    "metadata": {}
                },
                {
                    "output_type": "execute_result",
                    "metadata": {},
                    "execution_count": 27,
                    "data": {
                        "application/vnd.dataresource+json": {
                            "schema": {
                                "fields": [
                                    {
                                        "name": "(No column name)"
                                    }
                                ]
                            },
                            "data": [
                                {
                                    "0": "WORLD"
                                }
                            ]
                        },
                        "text/html": [
                            "<table>",
                            "<tr><th>(No column name)</th></tr>",
                            "<tr><td>WORLD</td></tr>",
                            "</table>"
                        ]
                    }
                },
                {
                    "output_type": "execute_result",
                    "metadata": {},
                    "execution_count": 27,
                    "data": {
                        "application/vnd.dataresource+json": {
                            "schema": {
                                "fields": [
                                    {
                                        "name": "(No column name)"
                                    }
                                ]
                            },
                            "data": [
                                {
                                    "0": "INDIA"
                                }
                            ]
                        },
                        "text/html": [
                            "<table>",
                            "<tr><th>(No column name)</th></tr>",
                            "<tr><td>INDIA</td></tr>",
                            "</table>"
                        ]
                    }
                },
                {
                    "output_type": "execute_result",
                    "metadata": {},
                    "execution_count": 27,
                    "data": {
                        "application/vnd.dataresource+json": {
                            "schema": {
                                "fields": [
                                    {
                                        "name": "(No column name)"
                                    }
                                ]
                            },
                            "data": [
                                {
                                    "0": "KNDKA"
                                }
                            ]
                        },
                        "text/html": [
                            "<table>",
                            "<tr><th>(No column name)</th></tr>",
                            "<tr><td>KNDKA</td></tr>",
                            "</table>"
                        ]
                    }
                },
                {
                    "output_type": "execute_result",
                    "metadata": {},
                    "execution_count": 27,
                    "data": {
                        "application/vnd.dataresource+json": {
                            "schema": {
                                "fields": [
                                    {
                                        "name": "(No column name)"
                                    }
                                ]
                            },
                            "data": [
                                {
                                    "0": "DLROW"
                                }
                            ]
                        },
                        "text/html": [
                            "<table>",
                            "<tr><th>(No column name)</th></tr>",
                            "<tr><td>DLROW</td></tr>",
                            "</table>"
                        ]
                    }
                }
            ],
            "execution_count": 27
        },
        {
            "cell_type": "code",
            "source": [
                "Select STUFF('ABCDEFGH', 2,4,'IJK') "
            ],
            "metadata": {
                "azdata_cell_guid": "dcfc2ff9-f3f1-4331-a5c6-569b40400147"
            },
            "outputs": [
                {
                    "output_type": "display_data",
                    "data": {
                        "text/html": "(1 row affected)"
                    },
                    "metadata": {}
                },
                {
                    "output_type": "display_data",
                    "data": {
                        "text/html": "Total execution time: 00:00:00.004"
                    },
                    "metadata": {}
                },
                {
                    "output_type": "execute_result",
                    "metadata": {},
                    "execution_count": 68,
                    "data": {
                        "application/vnd.dataresource+json": {
                            "schema": {
                                "fields": [
                                    {
                                        "name": "(No column name)"
                                    }
                                ]
                            },
                            "data": [
                                {
                                    "0": "AIJKFGH"
                                }
                            ]
                        },
                        "text/html": [
                            "<table>",
                            "<tr><th>(No column name)</th></tr>",
                            "<tr><td>AIJKFGH</td></tr>",
                            "</table>"
                        ]
                    }
                }
            ],
            "execution_count": 68
        },
        {
            "cell_type": "code",
            "source": [
                "SELECT FORMAT ( getdate(), 'D') "
            ],
            "metadata": {
                "azdata_cell_guid": "b721e17c-d3ca-4786-97a0-ff154a5b5c27"
            },
            "outputs": [
                {
                    "output_type": "display_data",
                    "data": {
                        "text/html": "(1 row affected)"
                    },
                    "metadata": {}
                },
                {
                    "output_type": "display_data",
                    "data": {
                        "text/html": "Total execution time: 00:00:00.015"
                    },
                    "metadata": {}
                },
                {
                    "output_type": "execute_result",
                    "metadata": {},
                    "execution_count": 69,
                    "data": {
                        "application/vnd.dataresource+json": {
                            "schema": {
                                "fields": [
                                    {
                                        "name": "(No column name)"
                                    }
                                ]
                            },
                            "data": [
                                {
                                    "0": "Monday, August 9, 2021"
                                }
                            ]
                        },
                        "text/html": [
                            "<table>",
                            "<tr><th>(No column name)</th></tr>",
                            "<tr><td>Monday, August 9, 2021</td></tr>",
                            "</table>"
                        ]
                    }
                }
            ],
            "execution_count": 69
        },
        {
            "cell_type": "code",
            "source": [
                "Select CONCAT('A',',','B',',','C') "
            ],
            "metadata": {
                "azdata_cell_guid": "d90f28d7-0f82-44b4-bcd3-46d2f5e532b4"
            },
            "outputs": [
                {
                    "output_type": "display_data",
                    "data": {
                        "text/html": "(1 row affected)"
                    },
                    "metadata": {}
                },
                {
                    "output_type": "display_data",
                    "data": {
                        "text/html": "Total execution time: 00:00:00.014"
                    },
                    "metadata": {}
                },
                {
                    "output_type": "execute_result",
                    "metadata": {},
                    "execution_count": 70,
                    "data": {
                        "application/vnd.dataresource+json": {
                            "schema": {
                                "fields": [
                                    {
                                        "name": "(No column name)"
                                    }
                                ]
                            },
                            "data": [
                                {
                                    "0": "A,B,C"
                                }
                            ]
                        },
                        "text/html": [
                            "<table>",
                            "<tr><th>(No column name)</th></tr>",
                            "<tr><td>A,B,C</td></tr>",
                            "</table>"
                        ]
                    }
                }
            ],
            "execution_count": 70
        },
        {
            "cell_type": "markdown",
            "source": [
                "<span style=\"color: rgb(37, 37, 37); font-family: &quot;Segoe UI&quot;, Tahoma, Arial; background-color: rgb(255, 255, 255);\">CONCAT_WS() is very similar to CONCAT() function, but it allows the user to specify a separator between the concatenated input strings. It can be used to generate comma-separated values.</span>"
            ],
            "metadata": {
                "azdata_cell_guid": "d6dd1580-7191-4c14-ae12-f4344dab2caf"
            },
            "attachments": {}
        },
        {
            "cell_type": "code",
            "source": [
                "SELECT CONCAT_WS(',','United States','New York')"
            ],
            "metadata": {
                "azdata_cell_guid": "13d988b5-48d3-4a1e-907c-97788afbe5c4"
            },
            "outputs": [
                {
                    "output_type": "display_data",
                    "data": {
                        "text/html": "(1 row affected)"
                    },
                    "metadata": {}
                },
                {
                    "output_type": "display_data",
                    "data": {
                        "text/html": "Total execution time: 00:00:00.010"
                    },
                    "metadata": {}
                },
                {
                    "output_type": "execute_result",
                    "metadata": {},
                    "execution_count": 71,
                    "data": {
                        "application/vnd.dataresource+json": {
                            "schema": {
                                "fields": [
                                    {
                                        "name": "(No column name)"
                                    }
                                ]
                            },
                            "data": [
                                {
                                    "0": "United States,New York"
                                }
                            ]
                        },
                        "text/html": [
                            "<table>",
                            "<tr><th>(No column name)</th></tr>",
                            "<tr><td>United States,New York</td></tr>",
                            "</table>"
                        ]
                    }
                }
            ],
            "execution_count": 71
        },
        {
            "cell_type": "markdown",
            "source": [
                "\\---------------------------------------------------------------"
            ],
            "metadata": {
                "azdata_cell_guid": "d834cf58-05c9-4fdd-a6cd-25c7f6decab6"
            },
            "attachments": {}
        },
        {
            "cell_type": "markdown",
            "source": [
                "Pivot"
            ],
            "metadata": {
                "azdata_cell_guid": "8939e146-5c29-4947-8e6d-03d065a8fd09"
            },
            "attachments": {}
        },
        {
            "cell_type": "code",
            "source": [
                "use AdventureWorks2019\r\n",
                "\r\n",
                "\r\n",
                "\r\n",
                "SELECT DaysToManufacture, AVG(StandardCost) AS AverageCost   \r\n",
                "FROM Production.Product  \r\n",
                "GROUP BY DaysToManufacture; \r\n",
                "\r\n",
                "----------------------------\r\n",
                "\r\n",
                "-- Pivot table with one row and five columns  \r\n",
                "SELECT 'AverageCost' AS Cost_Sorted_By_Production_Days,   \r\n",
                "  [0], [1], [2], [3], [4], [10]  \r\n",
                "FROM  \r\n",
                "(\r\n",
                "  SELECT DaysToManufacture, StandardCost   \r\n",
                "  FROM Production.Product\r\n",
                ") AS SourceTable  \r\n",
                "PIVOT  \r\n",
                "(  \r\n",
                "  AVG(StandardCost)  \r\n",
                "  FOR DaysToManufacture IN ([0], [1], [2], [3], [4],[10])  \r\n",
                ") AS PivotTable;"
            ],
            "metadata": {
                "azdata_cell_guid": "537271b2-79be-4f53-abe6-c3a99964d34d"
            },
            "outputs": [
                {
                    "output_type": "display_data",
                    "data": {
                        "text/html": "(5 rows affected)"
                    },
                    "metadata": {}
                },
                {
                    "output_type": "display_data",
                    "data": {
                        "text/html": "(1 row affected)"
                    },
                    "metadata": {}
                },
                {
                    "output_type": "display_data",
                    "data": {
                        "text/html": "Total execution time: 00:00:00.033"
                    },
                    "metadata": {}
                },
                {
                    "output_type": "execute_result",
                    "metadata": {},
                    "execution_count": 75,
                    "data": {
                        "application/vnd.dataresource+json": {
                            "schema": {
                                "fields": [
                                    {
                                        "name": "DaysToManufacture"
                                    },
                                    {
                                        "name": "AverageCost"
                                    }
                                ]
                            },
                            "data": [
                                {
                                    "0": "0",
                                    "1": "5.0885"
                                },
                                {
                                    "0": "1",
                                    "1": "223.8800"
                                },
                                {
                                    "0": "2",
                                    "1": "359.1082"
                                },
                                {
                                    "0": "4",
                                    "1": "949.4105"
                                },
                                {
                                    "0": "10",
                                    "1": "10.0000"
                                }
                            ]
                        },
                        "text/html": [
                            "<table>",
                            "<tr><th>DaysToManufacture</th><th>AverageCost</th></tr>",
                            "<tr><td>0</td><td>5.0885</td></tr>",
                            "<tr><td>1</td><td>223.8800</td></tr>",
                            "<tr><td>2</td><td>359.1082</td></tr>",
                            "<tr><td>4</td><td>949.4105</td></tr>",
                            "<tr><td>10</td><td>10.0000</td></tr>",
                            "</table>"
                        ]
                    }
                },
                {
                    "output_type": "execute_result",
                    "metadata": {},
                    "execution_count": 75,
                    "data": {
                        "application/vnd.dataresource+json": {
                            "schema": {
                                "fields": [
                                    {
                                        "name": "Cost_Sorted_By_Production_Days"
                                    },
                                    {
                                        "name": "0"
                                    },
                                    {
                                        "name": "1"
                                    },
                                    {
                                        "name": "2"
                                    },
                                    {
                                        "name": "3"
                                    },
                                    {
                                        "name": "4"
                                    },
                                    {
                                        "name": "10"
                                    }
                                ]
                            },
                            "data": [
                                {
                                    "0": "AverageCost",
                                    "1": "5.0885",
                                    "2": "223.8800",
                                    "3": "359.1082",
                                    "4": "NULL",
                                    "5": "949.4105",
                                    "6": "10.0000"
                                }
                            ]
                        },
                        "text/html": [
                            "<table>",
                            "<tr><th>Cost_Sorted_By_Production_Days</th><th>0</th><th>1</th><th>2</th><th>3</th><th>4</th><th>10</th></tr>",
                            "<tr><td>AverageCost</td><td>5.0885</td><td>223.8800</td><td>359.1082</td><td>NULL</td><td>949.4105</td><td>10.0000</td></tr>",
                            "</table>"
                        ]
                    }
                }
            ],
            "execution_count": 75
        },
        {
            "cell_type": "markdown",
            "source": [
                "<span style=\"color: rgb(23, 23, 23); font-family: &quot;Segoe UI&quot;, SegoeUI, &quot;Helvetica Neue&quot;, Helvetica, Arial, sans-serif; font-size: 16px; background-color: rgb(255, 255, 255);\">A common scenario where&nbsp;</span> `PIVOT` <span style=\"color: rgb(23, 23, 23); font-family: &quot;Segoe UI&quot;, SegoeUI, &quot;Helvetica Neue&quot;, Helvetica, Arial, sans-serif; font-size: 16px; background-color: rgb(255, 255, 255);\">&nbsp;can be useful is when you want to generate cross-tabulation reports to give a summary of the data. For example, suppose you want to query the&nbsp;</span> `PurchaseOrderHeader` <span style=\"color: rgb(23, 23, 23); font-family: &quot;Segoe UI&quot;, SegoeUI, &quot;Helvetica Neue&quot;, Helvetica, Arial, sans-serif; font-size: 16px; background-color: rgb(255, 255, 255);\">&nbsp;table in the&nbsp;</span> `AdventureWorks2014` <span style=\"color: rgb(23, 23, 23); font-family: &quot;Segoe UI&quot;, SegoeUI, &quot;Helvetica Neue&quot;, Helvetica, Arial, sans-serif; font-size: 16px; background-color: rgb(255, 255, 255);\">&nbsp;sample database to determine the number of purchase orders placed by certain employees. The following query provides this report, ordered by vendor.</span>"
            ],
            "metadata": {
                "azdata_cell_guid": "80b61305-65c9-4fb1-8d3b-7be871f13dee"
            },
            "attachments": {}
        },
        {
            "cell_type": "code",
            "source": [
                "USE AdventureWorks2019;  \n",
                "GO  \n",
                "SELECT VendorID, [250] AS Emp1, [251] AS Emp2, [256] AS Emp3, [257] AS Emp4, [260] AS Emp5  \n",
                "FROM   \n",
                "(SELECT PurchaseOrderID, EmployeeID, VendorID  \n",
                "FROM Purchasing.PurchaseOrderHeader) p  \n",
                "PIVOT  \n",
                "(  \n",
                "COUNT (PurchaseOrderID)  \n",
                "FOR EmployeeID IN  \n",
                "( [250], [251], [256], [257], [260] )  \n",
                ") AS pvt  \n",
                "ORDER BY pvt.VendorID;"
            ],
            "metadata": {
                "azdata_cell_guid": "786225eb-da8b-4b54-8b31-0c4f3cb9fae2"
            },
            "outputs": [
                {
                    "output_type": "display_data",
                    "data": {
                        "text/html": "Commands completed successfully."
                    },
                    "metadata": {}
                },
                {
                    "output_type": "display_data",
                    "data": {
                        "text/html": "(86 rows affected)"
                    },
                    "metadata": {}
                },
                {
                    "output_type": "display_data",
                    "data": {
                        "text/html": "Total execution time: 00:00:00.016"
                    },
                    "metadata": {}
                },
                {
                    "output_type": "execute_result",
                    "metadata": {},
                    "execution_count": 77,
                    "data": {
                        "application/vnd.dataresource+json": {
                            "schema": {
                                "fields": [
                                    {
                                        "name": "VendorID"
                                    },
                                    {
                                        "name": "Emp1"
                                    },
                                    {
                                        "name": "Emp2"
                                    },
                                    {
                                        "name": "Emp3"
                                    },
                                    {
                                        "name": "Emp4"
                                    },
                                    {
                                        "name": "Emp5"
                                    }
                                ]
                            },
                            "data": [
                                {
                                    "0": "1492",
                                    "1": "2",
                                    "2": "5",
                                    "3": "4",
                                    "4": "4",
                                    "5": "4"
                                },
                                {
                                    "0": "1494",
                                    "1": "2",
                                    "2": "5",
                                    "3": "4",
                                    "4": "5",
                                    "5": "4"
                                },
                                {
                                    "0": "1496",
                                    "1": "2",
                                    "2": "4",
                                    "3": "4",
                                    "4": "5",
                                    "5": "5"
                                },
                                {
                                    "0": "1498",
                                    "1": "2",
                                    "2": "5",
                                    "3": "4",
                                    "4": "4",
                                    "5": "4"
                                },
                                {
                                    "0": "1500",
                                    "1": "3",
                                    "2": "4",
                                    "3": "4",
                                    "4": "5",
                                    "5": "4"
                                },
                                {
                                    "0": "1504",
                                    "1": "2",
                                    "2": "5",
                                    "3": "5",
                                    "4": "4",
                                    "5": "5"
                                },
                                {
                                    "0": "1506",
                                    "1": "2",
                                    "2": "4",
                                    "3": "5",
                                    "4": "5",
                                    "5": "5"
                                },
                                {
                                    "0": "1508",
                                    "1": "2",
                                    "2": "4",
                                    "3": "4",
                                    "4": "6",
                                    "5": "5"
                                },
                                {
                                    "0": "1510",
                                    "1": "2",
                                    "2": "4",
                                    "3": "4",
                                    "4": "5",
                                    "5": "5"
                                },
                                {
                                    "0": "1514",
                                    "1": "2",
                                    "2": "4",
                                    "3": "4",
                                    "4": "5",
                                    "5": "4"
                                },
                                {
                                    "0": "1516",
                                    "1": "1",
                                    "2": "5",
                                    "3": "5",
                                    "4": "4",
                                    "5": "5"
                                },
                                {
                                    "0": "1518",
                                    "1": "0",
                                    "2": "0",
                                    "3": "1",
                                    "4": "0",
                                    "5": "0"
                                },
                                {
                                    "0": "1520",
                                    "1": "0",
                                    "2": "0",
                                    "3": "0",
                                    "4": "0",
                                    "5": "1"
                                },
                                {
                                    "0": "1522",
                                    "1": "2",
                                    "2": "6",
                                    "3": "4",
                                    "4": "4",
                                    "5": "4"
                                },
                                {
                                    "0": "1526",
                                    "1": "3",
                                    "2": "5",
                                    "3": "4",
                                    "4": "5",
                                    "5": "4"
                                },
                                {
                                    "0": "1530",
                                    "1": "2",
                                    "2": "4",
                                    "3": "5",
                                    "4": "5",
                                    "5": "5"
                                },
                                {
                                    "0": "1534",
                                    "1": "1",
                                    "2": "5",
                                    "3": "5",
                                    "4": "4",
                                    "5": "5"
                                },
                                {
                                    "0": "1536",
                                    "1": "3",
                                    "2": "4",
                                    "3": "4",
                                    "4": "5",
                                    "5": "4"
                                },
                                {
                                    "0": "1538",
                                    "1": "3",
                                    "2": "4",
                                    "3": "4",
                                    "4": "5",
                                    "5": "4"
                                },
                                {
                                    "0": "1540",
                                    "1": "2",
                                    "2": "4",
                                    "3": "5",
                                    "4": "5",
                                    "5": "5"
                                },
                                {
                                    "0": "1542",
                                    "1": "2",
                                    "2": "5",
                                    "3": "4",
                                    "4": "4",
                                    "5": "5"
                                },
                                {
                                    "0": "1544",
                                    "1": "2",
                                    "2": "5",
                                    "3": "5",
                                    "4": "4",
                                    "5": "5"
                                },
                                {
                                    "0": "1546",
                                    "1": "0",
                                    "2": "0",
                                    "3": "0",
                                    "4": "0",
                                    "5": "0"
                                },
                                {
                                    "0": "1548",
                                    "1": "1",
                                    "2": "5",
                                    "3": "5",
                                    "4": "4",
                                    "5": "5"
                                },
                                {
                                    "0": "1554",
                                    "1": "2",
                                    "2": "5",
                                    "3": "5",
                                    "4": "4",
                                    "5": "4"
                                },
                                {
                                    "0": "1556",
                                    "1": "2",
                                    "2": "5",
                                    "3": "4",
                                    "4": "4",
                                    "5": "4"
                                },
                                {
                                    "0": "1560",
                                    "1": "2",
                                    "2": "4",
                                    "3": "4",
                                    "4": "5",
                                    "5": "5"
                                },
                                {
                                    "0": "1562",
                                    "1": "1",
                                    "2": "5",
                                    "3": "5",
                                    "4": "4",
                                    "5": "5"
                                },
                                {
                                    "0": "1566",
                                    "1": "2",
                                    "2": "6",
                                    "3": "5",
                                    "4": "4",
                                    "5": "4"
                                },
                                {
                                    "0": "1568",
                                    "1": "2",
                                    "2": "5",
                                    "3": "4",
                                    "4": "4",
                                    "5": "5"
                                },
                                {
                                    "0": "1570",
                                    "1": "2",
                                    "2": "5",
                                    "3": "5",
                                    "4": "4",
                                    "5": "4"
                                },
                                {
                                    "0": "1572",
                                    "1": "2",
                                    "2": "5",
                                    "3": "5",
                                    "4": "4",
                                    "5": "4"
                                },
                                {
                                    "0": "1574",
                                    "1": "0",
                                    "2": "0",
                                    "3": "0",
                                    "4": "0",
                                    "5": "1"
                                },
                                {
                                    "0": "1576",
                                    "1": "2",
                                    "2": "4",
                                    "3": "5",
                                    "4": "5",
                                    "5": "5"
                                },
                                {
                                    "0": "1578",
                                    "1": "2",
                                    "2": "4",
                                    "3": "4",
                                    "4": "5",
                                    "5": "5"
                                },
                                {
                                    "0": "1580",
                                    "1": "2",
                                    "2": "4",
                                    "3": "5",
                                    "4": "5",
                                    "5": "5"
                                },
                                {
                                    "0": "1582",
                                    "1": "2",
                                    "2": "4",
                                    "3": "5",
                                    "4": "6",
                                    "5": "5"
                                },
                                {
                                    "0": "1584",
                                    "1": "2",
                                    "2": "4",
                                    "3": "6",
                                    "4": "5",
                                    "5": "5"
                                },
                                {
                                    "0": "1586",
                                    "1": "2",
                                    "2": "4",
                                    "3": "4",
                                    "4": "5",
                                    "5": "5"
                                },
                                {
                                    "0": "1588",
                                    "1": "2",
                                    "2": "4",
                                    "3": "4",
                                    "4": "5",
                                    "5": "5"
                                },
                                {
                                    "0": "1590",
                                    "1": "2",
                                    "2": "4",
                                    "3": "4",
                                    "4": "5",
                                    "5": "5"
                                },
                                {
                                    "0": "1592",
                                    "1": "2",
                                    "2": "5",
                                    "3": "4",
                                    "4": "4",
                                    "5": "4"
                                },
                                {
                                    "0": "1594",
                                    "1": "0",
                                    "2": "1",
                                    "3": "0",
                                    "4": "0",
                                    "5": "0"
                                },
                                {
                                    "0": "1598",
                                    "1": "2",
                                    "2": "4",
                                    "3": "5",
                                    "4": "5",
                                    "5": "5"
                                },
                                {
                                    "0": "1600",
                                    "1": "3",
                                    "2": "4",
                                    "3": "4",
                                    "4": "5",
                                    "5": "4"
                                },
                                {
                                    "0": "1602",
                                    "1": "2",
                                    "2": "5",
                                    "3": "5",
                                    "4": "4",
                                    "5": "5"
                                },
                                {
                                    "0": "1604",
                                    "1": "3",
                                    "2": "4",
                                    "3": "4",
                                    "4": "6",
                                    "5": "4"
                                },
                                {
                                    "0": "1608",
                                    "1": "1",
                                    "2": "5",
                                    "3": "5",
                                    "4": "4",
                                    "5": "5"
                                },
                                {
                                    "0": "1610",
                                    "1": "2",
                                    "2": "5",
                                    "3": "5",
                                    "4": "4",
                                    "5": "4"
                                },
                                {
                                    "0": "1612",
                                    "1": "2",
                                    "2": "4",
                                    "3": "5",
                                    "4": "4",
                                    "5": "5"
                                },
                                {
                                    "0": "1614",
                                    "1": "2",
                                    "2": "4",
                                    "3": "5",
                                    "4": "5",
                                    "5": "5"
                                },
                                {
                                    "0": "1616",
                                    "1": "3",
                                    "2": "4",
                                    "3": "5",
                                    "4": "5",
                                    "5": "4"
                                },
                                {
                                    "0": "1618",
                                    "1": "2",
                                    "2": "5",
                                    "3": "5",
                                    "4": "4",
                                    "5": "4"
                                },
                                {
                                    "0": "1620",
                                    "1": "2",
                                    "2": "4",
                                    "3": "4",
                                    "4": "5",
                                    "5": "5"
                                },
                                {
                                    "0": "1622",
                                    "1": "3",
                                    "2": "4",
                                    "3": "4",
                                    "4": "5",
                                    "5": "4"
                                },
                                {
                                    "0": "1624",
                                    "1": "2",
                                    "2": "6",
                                    "3": "5",
                                    "4": "4",
                                    "5": "4"
                                },
                                {
                                    "0": "1626",
                                    "1": "3",
                                    "2": "4",
                                    "3": "4",
                                    "4": "5",
                                    "5": "4"
                                },
                                {
                                    "0": "1628",
                                    "1": "2",
                                    "2": "4",
                                    "3": "4",
                                    "4": "5",
                                    "5": "5"
                                },
                                {
                                    "0": "1632",
                                    "1": "2",
                                    "2": "5",
                                    "3": "5",
                                    "4": "4",
                                    "5": "4"
                                },
                                {
                                    "0": "1636",
                                    "1": "0",
                                    "2": "0",
                                    "3": "0",
                                    "4": "0",
                                    "5": "0"
                                },
                                {
                                    "0": "1638",
                                    "1": "2",
                                    "2": "5",
                                    "3": "5",
                                    "4": "4",
                                    "5": "5"
                                },
                                {
                                    "0": "1644",
                                    "1": "2",
                                    "2": "5",
                                    "3": "5",
                                    "4": "4",
                                    "5": "4"
                                },
                                {
                                    "0": "1646",
                                    "1": "2",
                                    "2": "4",
                                    "3": "5",
                                    "4": "5",
                                    "5": "5"
                                },
                                {
                                    "0": "1648",
                                    "1": "2",
                                    "2": "5",
                                    "3": "5",
                                    "4": "4",
                                    "5": "4"
                                },
                                {
                                    "0": "1650",
                                    "1": "2",
                                    "2": "5",
                                    "3": "5",
                                    "4": "4",
                                    "5": "4"
                                },
                                {
                                    "0": "1652",
                                    "1": "2",
                                    "2": "4",
                                    "3": "5",
                                    "4": "4",
                                    "5": "5"
                                },
                                {
                                    "0": "1654",
                                    "1": "1",
                                    "2": "6",
                                    "3": "5",
                                    "4": "4",
                                    "5": "5"
                                },
                                {
                                    "0": "1656",
                                    "1": "2",
                                    "2": "5",
                                    "3": "4",
                                    "4": "4",
                                    "5": "4"
                                },
                                {
                                    "0": "1658",
                                    "1": "2",
                                    "2": "4",
                                    "3": "5",
                                    "4": "5",
                                    "5": "5"
                                },
                                {
                                    "0": "1662",
                                    "1": "2",
                                    "2": "4",
                                    "3": "5",
                                    "4": "5",
                                    "5": "5"
                                },
                                {
                                    "0": "1664",
                                    "1": "2",
                                    "2": "4",
                                    "3": "5",
                                    "4": "5",
                                    "5": "5"
                                },
                                {
                                    "0": "1666",
                                    "1": "3",
                                    "2": "4",
                                    "3": "4",
                                    "4": "5",
                                    "5": "5"
                                },
                                {
                                    "0": "1672",
                                    "1": "2",
                                    "2": "4",
                                    "3": "4",
                                    "4": "6",
                                    "5": "5"
                                },
                                {
                                    "0": "1674",
                                    "1": "2",
                                    "2": "5",
                                    "3": "5",
                                    "4": "4",
                                    "5": "4"
                                },
                                {
                                    "0": "1676",
                                    "1": "0",
                                    "2": "0",
                                    "3": "0",
                                    "4": "0",
                                    "5": "0"
                                },
                                {
                                    "0": "1678",
                                    "1": "2",
                                    "2": "4",
                                    "3": "4",
                                    "4": "5",
                                    "5": "5"
                                },
                                {
                                    "0": "1680",
                                    "1": "1",
                                    "2": "5",
                                    "3": "5",
                                    "4": "4",
                                    "5": "5"
                                },
                                {
                                    "0": "1682",
                                    "1": "2",
                                    "2": "4",
                                    "3": "4",
                                    "4": "5",
                                    "5": "5"
                                },
                                {
                                    "0": "1684",
                                    "1": "2",
                                    "2": "5",
                                    "3": "5",
                                    "4": "4",
                                    "5": "4"
                                },
                                {
                                    "0": "1686",
                                    "1": "2",
                                    "2": "5",
                                    "3": "4",
                                    "4": "4",
                                    "5": "4"
                                },
                                {
                                    "0": "1688",
                                    "1": "1",
                                    "2": "5",
                                    "3": "5",
                                    "4": "4",
                                    "5": "5"
                                },
                                {
                                    "0": "1690",
                                    "1": "2",
                                    "2": "5",
                                    "3": "4",
                                    "4": "4",
                                    "5": "4"
                                },
                                {
                                    "0": "1692",
                                    "1": "3",
                                    "2": "4",
                                    "3": "5",
                                    "4": "5",
                                    "5": "4"
                                },
                                {
                                    "0": "1694",
                                    "1": "2",
                                    "2": "5",
                                    "3": "4",
                                    "4": "5",
                                    "5": "4"
                                },
                                {
                                    "0": "1696",
                                    "1": "2",
                                    "2": "5",
                                    "3": "4",
                                    "4": "4",
                                    "5": "4"
                                },
                                {
                                    "0": "1698",
                                    "1": "1",
                                    "2": "5",
                                    "3": "5",
                                    "4": "4",
                                    "5": "5"
                                }
                            ]
                        },
                        "text/html": [
                            "<table>",
                            "<tr><th>VendorID</th><th>Emp1</th><th>Emp2</th><th>Emp3</th><th>Emp4</th><th>Emp5</th></tr>",
                            "<tr><td>1492</td><td>2</td><td>5</td><td>4</td><td>4</td><td>4</td></tr>",
                            "<tr><td>1494</td><td>2</td><td>5</td><td>4</td><td>5</td><td>4</td></tr>",
                            "<tr><td>1496</td><td>2</td><td>4</td><td>4</td><td>5</td><td>5</td></tr>",
                            "<tr><td>1498</td><td>2</td><td>5</td><td>4</td><td>4</td><td>4</td></tr>",
                            "<tr><td>1500</td><td>3</td><td>4</td><td>4</td><td>5</td><td>4</td></tr>",
                            "<tr><td>1504</td><td>2</td><td>5</td><td>5</td><td>4</td><td>5</td></tr>",
                            "<tr><td>1506</td><td>2</td><td>4</td><td>5</td><td>5</td><td>5</td></tr>",
                            "<tr><td>1508</td><td>2</td><td>4</td><td>4</td><td>6</td><td>5</td></tr>",
                            "<tr><td>1510</td><td>2</td><td>4</td><td>4</td><td>5</td><td>5</td></tr>",
                            "<tr><td>1514</td><td>2</td><td>4</td><td>4</td><td>5</td><td>4</td></tr>",
                            "<tr><td>1516</td><td>1</td><td>5</td><td>5</td><td>4</td><td>5</td></tr>",
                            "<tr><td>1518</td><td>0</td><td>0</td><td>1</td><td>0</td><td>0</td></tr>",
                            "<tr><td>1520</td><td>0</td><td>0</td><td>0</td><td>0</td><td>1</td></tr>",
                            "<tr><td>1522</td><td>2</td><td>6</td><td>4</td><td>4</td><td>4</td></tr>",
                            "<tr><td>1526</td><td>3</td><td>5</td><td>4</td><td>5</td><td>4</td></tr>",
                            "<tr><td>1530</td><td>2</td><td>4</td><td>5</td><td>5</td><td>5</td></tr>",
                            "<tr><td>1534</td><td>1</td><td>5</td><td>5</td><td>4</td><td>5</td></tr>",
                            "<tr><td>1536</td><td>3</td><td>4</td><td>4</td><td>5</td><td>4</td></tr>",
                            "<tr><td>1538</td><td>3</td><td>4</td><td>4</td><td>5</td><td>4</td></tr>",
                            "<tr><td>1540</td><td>2</td><td>4</td><td>5</td><td>5</td><td>5</td></tr>",
                            "<tr><td>1542</td><td>2</td><td>5</td><td>4</td><td>4</td><td>5</td></tr>",
                            "<tr><td>1544</td><td>2</td><td>5</td><td>5</td><td>4</td><td>5</td></tr>",
                            "<tr><td>1546</td><td>0</td><td>0</td><td>0</td><td>0</td><td>0</td></tr>",
                            "<tr><td>1548</td><td>1</td><td>5</td><td>5</td><td>4</td><td>5</td></tr>",
                            "<tr><td>1554</td><td>2</td><td>5</td><td>5</td><td>4</td><td>4</td></tr>",
                            "<tr><td>1556</td><td>2</td><td>5</td><td>4</td><td>4</td><td>4</td></tr>",
                            "<tr><td>1560</td><td>2</td><td>4</td><td>4</td><td>5</td><td>5</td></tr>",
                            "<tr><td>1562</td><td>1</td><td>5</td><td>5</td><td>4</td><td>5</td></tr>",
                            "<tr><td>1566</td><td>2</td><td>6</td><td>5</td><td>4</td><td>4</td></tr>",
                            "<tr><td>1568</td><td>2</td><td>5</td><td>4</td><td>4</td><td>5</td></tr>",
                            "<tr><td>1570</td><td>2</td><td>5</td><td>5</td><td>4</td><td>4</td></tr>",
                            "<tr><td>1572</td><td>2</td><td>5</td><td>5</td><td>4</td><td>4</td></tr>",
                            "<tr><td>1574</td><td>0</td><td>0</td><td>0</td><td>0</td><td>1</td></tr>",
                            "<tr><td>1576</td><td>2</td><td>4</td><td>5</td><td>5</td><td>5</td></tr>",
                            "<tr><td>1578</td><td>2</td><td>4</td><td>4</td><td>5</td><td>5</td></tr>",
                            "<tr><td>1580</td><td>2</td><td>4</td><td>5</td><td>5</td><td>5</td></tr>",
                            "<tr><td>1582</td><td>2</td><td>4</td><td>5</td><td>6</td><td>5</td></tr>",
                            "<tr><td>1584</td><td>2</td><td>4</td><td>6</td><td>5</td><td>5</td></tr>",
                            "<tr><td>1586</td><td>2</td><td>4</td><td>4</td><td>5</td><td>5</td></tr>",
                            "<tr><td>1588</td><td>2</td><td>4</td><td>4</td><td>5</td><td>5</td></tr>",
                            "<tr><td>1590</td><td>2</td><td>4</td><td>4</td><td>5</td><td>5</td></tr>",
                            "<tr><td>1592</td><td>2</td><td>5</td><td>4</td><td>4</td><td>4</td></tr>",
                            "<tr><td>1594</td><td>0</td><td>1</td><td>0</td><td>0</td><td>0</td></tr>",
                            "<tr><td>1598</td><td>2</td><td>4</td><td>5</td><td>5</td><td>5</td></tr>",
                            "<tr><td>1600</td><td>3</td><td>4</td><td>4</td><td>5</td><td>4</td></tr>",
                            "<tr><td>1602</td><td>2</td><td>5</td><td>5</td><td>4</td><td>5</td></tr>",
                            "<tr><td>1604</td><td>3</td><td>4</td><td>4</td><td>6</td><td>4</td></tr>",
                            "<tr><td>1608</td><td>1</td><td>5</td><td>5</td><td>4</td><td>5</td></tr>",
                            "<tr><td>1610</td><td>2</td><td>5</td><td>5</td><td>4</td><td>4</td></tr>",
                            "<tr><td>1612</td><td>2</td><td>4</td><td>5</td><td>4</td><td>5</td></tr>",
                            "<tr><td>1614</td><td>2</td><td>4</td><td>5</td><td>5</td><td>5</td></tr>",
                            "<tr><td>1616</td><td>3</td><td>4</td><td>5</td><td>5</td><td>4</td></tr>",
                            "<tr><td>1618</td><td>2</td><td>5</td><td>5</td><td>4</td><td>4</td></tr>",
                            "<tr><td>1620</td><td>2</td><td>4</td><td>4</td><td>5</td><td>5</td></tr>",
                            "<tr><td>1622</td><td>3</td><td>4</td><td>4</td><td>5</td><td>4</td></tr>",
                            "<tr><td>1624</td><td>2</td><td>6</td><td>5</td><td>4</td><td>4</td></tr>",
                            "<tr><td>1626</td><td>3</td><td>4</td><td>4</td><td>5</td><td>4</td></tr>",
                            "<tr><td>1628</td><td>2</td><td>4</td><td>4</td><td>5</td><td>5</td></tr>",
                            "<tr><td>1632</td><td>2</td><td>5</td><td>5</td><td>4</td><td>4</td></tr>",
                            "<tr><td>1636</td><td>0</td><td>0</td><td>0</td><td>0</td><td>0</td></tr>",
                            "<tr><td>1638</td><td>2</td><td>5</td><td>5</td><td>4</td><td>5</td></tr>",
                            "<tr><td>1644</td><td>2</td><td>5</td><td>5</td><td>4</td><td>4</td></tr>",
                            "<tr><td>1646</td><td>2</td><td>4</td><td>5</td><td>5</td><td>5</td></tr>",
                            "<tr><td>1648</td><td>2</td><td>5</td><td>5</td><td>4</td><td>4</td></tr>",
                            "<tr><td>1650</td><td>2</td><td>5</td><td>5</td><td>4</td><td>4</td></tr>",
                            "<tr><td>1652</td><td>2</td><td>4</td><td>5</td><td>4</td><td>5</td></tr>",
                            "<tr><td>1654</td><td>1</td><td>6</td><td>5</td><td>4</td><td>5</td></tr>",
                            "<tr><td>1656</td><td>2</td><td>5</td><td>4</td><td>4</td><td>4</td></tr>",
                            "<tr><td>1658</td><td>2</td><td>4</td><td>5</td><td>5</td><td>5</td></tr>",
                            "<tr><td>1662</td><td>2</td><td>4</td><td>5</td><td>5</td><td>5</td></tr>",
                            "<tr><td>1664</td><td>2</td><td>4</td><td>5</td><td>5</td><td>5</td></tr>",
                            "<tr><td>1666</td><td>3</td><td>4</td><td>4</td><td>5</td><td>5</td></tr>",
                            "<tr><td>1672</td><td>2</td><td>4</td><td>4</td><td>6</td><td>5</td></tr>",
                            "<tr><td>1674</td><td>2</td><td>5</td><td>5</td><td>4</td><td>4</td></tr>",
                            "<tr><td>1676</td><td>0</td><td>0</td><td>0</td><td>0</td><td>0</td></tr>",
                            "<tr><td>1678</td><td>2</td><td>4</td><td>4</td><td>5</td><td>5</td></tr>",
                            "<tr><td>1680</td><td>1</td><td>5</td><td>5</td><td>4</td><td>5</td></tr>",
                            "<tr><td>1682</td><td>2</td><td>4</td><td>4</td><td>5</td><td>5</td></tr>",
                            "<tr><td>1684</td><td>2</td><td>5</td><td>5</td><td>4</td><td>4</td></tr>",
                            "<tr><td>1686</td><td>2</td><td>5</td><td>4</td><td>4</td><td>4</td></tr>",
                            "<tr><td>1688</td><td>1</td><td>5</td><td>5</td><td>4</td><td>5</td></tr>",
                            "<tr><td>1690</td><td>2</td><td>5</td><td>4</td><td>4</td><td>4</td></tr>",
                            "<tr><td>1692</td><td>3</td><td>4</td><td>5</td><td>5</td><td>4</td></tr>",
                            "<tr><td>1694</td><td>2</td><td>5</td><td>4</td><td>5</td><td>4</td></tr>",
                            "<tr><td>1696</td><td>2</td><td>5</td><td>4</td><td>4</td><td>4</td></tr>",
                            "<tr><td>1698</td><td>1</td><td>5</td><td>5</td><td>4</td><td>5</td></tr>",
                            "</table>"
                        ]
                    }
                }
            ],
            "execution_count": 77
        },
        {
            "cell_type": "markdown",
            "source": [
                "# ROW\\_NUMBER (Transact-SQL)\n",
                "\n",
                "# Numbers the output of a result set. More specifically, returns the sequential number of a row within a partition of a result set, starting at 1 for the first row in each partition."
            ],
            "metadata": {
                "azdata_cell_guid": "13281261-de72-40b4-b26d-a3302eacc0d4"
            },
            "attachments": {}
        },
        {
            "cell_type": "code",
            "source": [
                "SELECT \r\n",
                "  ROW_NUMBER() OVER(ORDER BY name ASC) AS Row#,\r\n",
                "  name, recovery_model_desc\r\n",
                "FROM sys.databases \r\n",
                "WHERE database_id < 5;"
            ],
            "metadata": {
                "azdata_cell_guid": "99566cf9-147d-495f-bbfc-16deeb65602d"
            },
            "outputs": [
                {
                    "output_type": "display_data",
                    "data": {
                        "text/html": "(4 rows affected)"
                    },
                    "metadata": {}
                },
                {
                    "output_type": "display_data",
                    "data": {
                        "text/html": "Total execution time: 00:00:00.055"
                    },
                    "metadata": {}
                },
                {
                    "output_type": "execute_result",
                    "metadata": {},
                    "execution_count": 78,
                    "data": {
                        "application/vnd.dataresource+json": {
                            "schema": {
                                "fields": [
                                    {
                                        "name": "Row#"
                                    },
                                    {
                                        "name": "name"
                                    },
                                    {
                                        "name": "recovery_model_desc"
                                    }
                                ]
                            },
                            "data": [
                                {
                                    "0": "1",
                                    "1": "master",
                                    "2": "SIMPLE"
                                },
                                {
                                    "0": "2",
                                    "1": "model",
                                    "2": "FULL"
                                },
                                {
                                    "0": "3",
                                    "1": "msdb",
                                    "2": "SIMPLE"
                                },
                                {
                                    "0": "4",
                                    "1": "tempdb",
                                    "2": "SIMPLE"
                                }
                            ]
                        },
                        "text/html": [
                            "<table>",
                            "<tr><th>Row#</th><th>name</th><th>recovery_model_desc</th></tr>",
                            "<tr><td>1</td><td>master</td><td>SIMPLE</td></tr>",
                            "<tr><td>2</td><td>model</td><td>FULL</td></tr>",
                            "<tr><td>3</td><td>msdb</td><td>SIMPLE</td></tr>",
                            "<tr><td>4</td><td>tempdb</td><td>SIMPLE</td></tr>",
                            "</table>"
                        ]
                    }
                }
            ],
            "execution_count": 78
        },
        {
            "cell_type": "markdown",
            "source": [
                "The following example calculates a row number for the salespeople in Adventure Works Cycles based on their year-to-date sales ranking."
            ],
            "metadata": {
                "azdata_cell_guid": "caa62454-d9a6-488f-91a6-eaa2cd6081b7"
            }
        },
        {
            "cell_type": "code",
            "source": [
                "USE AdventureWorks2019;   \r\n",
                "GO  \r\n",
                "SELECT ROW_NUMBER() OVER(ORDER BY SalesYTD DESC) AS Row,   \r\n",
                "    FirstName, LastName, ROUND(SalesYTD,2,1) AS \"Sales YTD\"   \r\n",
                "FROM Sales.vSalesPerson  \r\n",
                "WHERE TerritoryName IS NOT NULL AND SalesYTD <> 0;"
            ],
            "metadata": {
                "azdata_cell_guid": "e3a1abde-c247-4048-852e-8e7deb8f8949"
            },
            "outputs": [
                {
                    "output_type": "display_data",
                    "data": {
                        "text/html": "Commands completed successfully."
                    },
                    "metadata": {}
                },
                {
                    "output_type": "display_data",
                    "data": {
                        "text/html": "(14 rows affected)"
                    },
                    "metadata": {}
                },
                {
                    "output_type": "display_data",
                    "data": {
                        "text/html": "Total execution time: 00:00:00.307"
                    },
                    "metadata": {}
                },
                {
                    "output_type": "execute_result",
                    "metadata": {},
                    "execution_count": 79,
                    "data": {
                        "application/vnd.dataresource+json": {
                            "schema": {
                                "fields": [
                                    {
                                        "name": "Row"
                                    },
                                    {
                                        "name": "FirstName"
                                    },
                                    {
                                        "name": "LastName"
                                    },
                                    {
                                        "name": "Sales YTD"
                                    }
                                ]
                            },
                            "data": [
                                {
                                    "0": "1",
                                    "1": "Linda",
                                    "2": "Mitchell",
                                    "3": "4251368.5400"
                                },
                                {
                                    "0": "2",
                                    "1": "Jae",
                                    "2": "Pak",
                                    "3": "4116871.2200"
                                },
                                {
                                    "0": "3",
                                    "1": "Michael",
                                    "2": "Blythe",
                                    "3": "3763178.1700"
                                },
                                {
                                    "0": "4",
                                    "1": "Jillian",
                                    "2": "Carson",
                                    "3": "3189418.3600"
                                },
                                {
                                    "0": "5",
                                    "1": "Ranjit",
                                    "2": "Varkey Chudukatil",
                                    "3": "3121616.3200"
                                },
                                {
                                    "0": "6",
                                    "1": "José",
                                    "2": "Saraiva",
                                    "3": "2604540.7100"
                                },
                                {
                                    "0": "7",
                                    "1": "Shu",
                                    "2": "Ito",
                                    "3": "2458535.6100"
                                },
                                {
                                    "0": "8",
                                    "1": "Tsvi",
                                    "2": "Reiter",
                                    "3": "2315185.6100"
                                },
                                {
                                    "0": "9",
                                    "1": "Rachel",
                                    "2": "Valdez",
                                    "3": "1827066.7100"
                                },
                                {
                                    "0": "10",
                                    "1": "Tete",
                                    "2": "Mensa-Annan",
                                    "3": "1576562.1900"
                                },
                                {
                                    "0": "11",
                                    "1": "David",
                                    "2": "Campbell",
                                    "3": "1573012.9300"
                                },
                                {
                                    "0": "12",
                                    "1": "Garrett",
                                    "2": "Vargas",
                                    "3": "1453719.4600"
                                },
                                {
                                    "0": "13",
                                    "1": "Lynn",
                                    "2": "Tsoflias",
                                    "3": "1421810.9200"
                                },
                                {
                                    "0": "14",
                                    "1": "Pamela",
                                    "2": "Ansman-Wolfe",
                                    "3": "1352577.1300"
                                }
                            ]
                        },
                        "text/html": [
                            "<table>",
                            "<tr><th>Row</th><th>FirstName</th><th>LastName</th><th>Sales YTD</th></tr>",
                            "<tr><td>1</td><td>Linda</td><td>Mitchell</td><td>4251368.5400</td></tr>",
                            "<tr><td>2</td><td>Jae</td><td>Pak</td><td>4116871.2200</td></tr>",
                            "<tr><td>3</td><td>Michael</td><td>Blythe</td><td>3763178.1700</td></tr>",
                            "<tr><td>4</td><td>Jillian</td><td>Carson</td><td>3189418.3600</td></tr>",
                            "<tr><td>5</td><td>Ranjit</td><td>Varkey Chudukatil</td><td>3121616.3200</td></tr>",
                            "<tr><td>6</td><td>José</td><td>Saraiva</td><td>2604540.7100</td></tr>",
                            "<tr><td>7</td><td>Shu</td><td>Ito</td><td>2458535.6100</td></tr>",
                            "<tr><td>8</td><td>Tsvi</td><td>Reiter</td><td>2315185.6100</td></tr>",
                            "<tr><td>9</td><td>Rachel</td><td>Valdez</td><td>1827066.7100</td></tr>",
                            "<tr><td>10</td><td>Tete</td><td>Mensa-Annan</td><td>1576562.1900</td></tr>",
                            "<tr><td>11</td><td>David</td><td>Campbell</td><td>1573012.9300</td></tr>",
                            "<tr><td>12</td><td>Garrett</td><td>Vargas</td><td>1453719.4600</td></tr>",
                            "<tr><td>13</td><td>Lynn</td><td>Tsoflias</td><td>1421810.9200</td></tr>",
                            "<tr><td>14</td><td>Pamela</td><td>Ansman-Wolfe</td><td>1352577.1300</td></tr>",
                            "</table>"
                        ]
                    }
                }
            ],
            "execution_count": 79
        },
        {
            "cell_type": "markdown",
            "source": [
                "### Returning a subset of rows"
            ],
            "metadata": {
                "azdata_cell_guid": "a0cd9df3-7df8-4e4e-b89d-26b2ef6beece"
            },
            "attachments": {}
        },
        {
            "cell_type": "code",
            "source": [
                "USE AdventureWorks2019;  \r\n",
                "GO  \r\n",
                "WITH OrderedOrders AS  \r\n",
                "(  \r\n",
                "    SELECT SalesOrderID, OrderDate,  \r\n",
                "    ROW_NUMBER() OVER (ORDER BY OrderDate) AS RowNumber  \r\n",
                "    FROM Sales.SalesOrderHeader   \r\n",
                ")   \r\n",
                "SELECT SalesOrderID, OrderDate, RowNumber    \r\n",
                "FROM OrderedOrders   \r\n",
                "WHERE RowNumber BETWEEN 50 AND 60;"
            ],
            "metadata": {
                "azdata_cell_guid": "e14aebe5-adfc-45e9-a950-d6d879ac4312"
            },
            "outputs": [
                {
                    "output_type": "display_data",
                    "data": {
                        "text/html": "Commands completed successfully."
                    },
                    "metadata": {}
                },
                {
                    "output_type": "display_data",
                    "data": {
                        "text/html": "(11 rows affected)"
                    },
                    "metadata": {}
                },
                {
                    "output_type": "display_data",
                    "data": {
                        "text/html": "Total execution time: 00:00:00.062"
                    },
                    "metadata": {}
                },
                {
                    "output_type": "execute_result",
                    "metadata": {},
                    "execution_count": 80,
                    "data": {
                        "application/vnd.dataresource+json": {
                            "schema": {
                                "fields": [
                                    {
                                        "name": "SalesOrderID"
                                    },
                                    {
                                        "name": "OrderDate"
                                    },
                                    {
                                        "name": "RowNumber"
                                    }
                                ]
                            },
                            "data": [
                                {
                                    "0": "43708",
                                    "1": "2011-06-02 00:00:00.000",
                                    "2": "50"
                                },
                                {
                                    "0": "43709",
                                    "1": "2011-06-02 00:00:00.000",
                                    "2": "51"
                                },
                                {
                                    "0": "43710",
                                    "1": "2011-06-02 00:00:00.000",
                                    "2": "52"
                                },
                                {
                                    "0": "43711",
                                    "1": "2011-06-03 00:00:00.000",
                                    "2": "53"
                                },
                                {
                                    "0": "43712",
                                    "1": "2011-06-03 00:00:00.000",
                                    "2": "54"
                                },
                                {
                                    "0": "43713",
                                    "1": "2011-06-04 00:00:00.000",
                                    "2": "55"
                                },
                                {
                                    "0": "43714",
                                    "1": "2011-06-04 00:00:00.000",
                                    "2": "56"
                                },
                                {
                                    "0": "43715",
                                    "1": "2011-06-04 00:00:00.000",
                                    "2": "57"
                                },
                                {
                                    "0": "43716",
                                    "1": "2011-06-04 00:00:00.000",
                                    "2": "58"
                                },
                                {
                                    "0": "43717",
                                    "1": "2011-06-04 00:00:00.000",
                                    "2": "59"
                                },
                                {
                                    "0": "43718",
                                    "1": "2011-06-05 00:00:00.000",
                                    "2": "60"
                                }
                            ]
                        },
                        "text/html": [
                            "<table>",
                            "<tr><th>SalesOrderID</th><th>OrderDate</th><th>RowNumber</th></tr>",
                            "<tr><td>43708</td><td>2011-06-02 00:00:00.000</td><td>50</td></tr>",
                            "<tr><td>43709</td><td>2011-06-02 00:00:00.000</td><td>51</td></tr>",
                            "<tr><td>43710</td><td>2011-06-02 00:00:00.000</td><td>52</td></tr>",
                            "<tr><td>43711</td><td>2011-06-03 00:00:00.000</td><td>53</td></tr>",
                            "<tr><td>43712</td><td>2011-06-03 00:00:00.000</td><td>54</td></tr>",
                            "<tr><td>43713</td><td>2011-06-04 00:00:00.000</td><td>55</td></tr>",
                            "<tr><td>43714</td><td>2011-06-04 00:00:00.000</td><td>56</td></tr>",
                            "<tr><td>43715</td><td>2011-06-04 00:00:00.000</td><td>57</td></tr>",
                            "<tr><td>43716</td><td>2011-06-04 00:00:00.000</td><td>58</td></tr>",
                            "<tr><td>43717</td><td>2011-06-04 00:00:00.000</td><td>59</td></tr>",
                            "<tr><td>43718</td><td>2011-06-05 00:00:00.000</td><td>60</td></tr>",
                            "</table>"
                        ]
                    }
                }
            ],
            "execution_count": 80
        },
        {
            "cell_type": "markdown",
            "source": [
                "### Using ROW\\_NUMBER() with PARTITION\n",
                "\n",
                "The following example uses the `PARTITION BY` argument to partition the query result set by the column `TerritoryName`. The `ORDER BY` clause specified in the `OVER` clause orders the rows in each partition by the column `SalesYTD`. The `ORDER BY` clause in the `SELECT` statement orders the entire query result set by `TerritoryName`."
            ],
            "metadata": {
                "azdata_cell_guid": "2b1f5dff-fb2d-4d78-923f-85c3a49a05a4"
            },
            "attachments": {}
        },
        {
            "cell_type": "code",
            "source": [
                "USE AdventureWorks2019;  \r\n",
                "GO  \r\n",
                "SELECT FirstName, LastName, TerritoryName, ROUND(SalesYTD,2,1) AS SalesYTD\r\n",
                ",  ROW_NUMBER() OVER(PARTITION BY TerritoryName ORDER BY SalesYTD DESC) \r\n",
                "  AS Row  \r\n",
                "FROM Sales.vSalesPerson  \r\n",
                "WHERE TerritoryName IS NOT NULL AND SalesYTD <> 0  \r\n",
                "ORDER BY TerritoryName ;"
            ],
            "metadata": {
                "azdata_cell_guid": "4ca2f81a-0fa0-46a5-aca4-fc1932bc5f31"
            },
            "outputs": [
                {
                    "output_type": "display_data",
                    "data": {
                        "text/html": "Commands completed successfully."
                    },
                    "metadata": {}
                },
                {
                    "output_type": "display_data",
                    "data": {
                        "text/html": "(14 rows affected)"
                    },
                    "metadata": {}
                },
                {
                    "output_type": "display_data",
                    "data": {
                        "text/html": "Total execution time: 00:00:00.026"
                    },
                    "metadata": {}
                },
                {
                    "output_type": "execute_result",
                    "metadata": {},
                    "execution_count": 88,
                    "data": {
                        "application/vnd.dataresource+json": {
                            "schema": {
                                "fields": [
                                    {
                                        "name": "FirstName"
                                    },
                                    {
                                        "name": "LastName"
                                    },
                                    {
                                        "name": "TerritoryName"
                                    },
                                    {
                                        "name": "SalesYTD"
                                    },
                                    {
                                        "name": "Row"
                                    }
                                ]
                            },
                            "data": [
                                {
                                    "0": "Lynn",
                                    "1": "Tsoflias",
                                    "2": "Australia",
                                    "3": "1421810.9200",
                                    "4": "1"
                                },
                                {
                                    "0": "José",
                                    "1": "Saraiva",
                                    "2": "Canada",
                                    "3": "2604540.7100",
                                    "4": "1"
                                },
                                {
                                    "0": "Garrett",
                                    "1": "Vargas",
                                    "2": "Canada",
                                    "3": "1453719.4600",
                                    "4": "2"
                                },
                                {
                                    "0": "Jillian",
                                    "1": "Carson",
                                    "2": "Central",
                                    "3": "3189418.3600",
                                    "4": "1"
                                },
                                {
                                    "0": "Ranjit",
                                    "1": "Varkey Chudukatil",
                                    "2": "France",
                                    "3": "3121616.3200",
                                    "4": "1"
                                },
                                {
                                    "0": "Rachel",
                                    "1": "Valdez",
                                    "2": "Germany",
                                    "3": "1827066.7100",
                                    "4": "1"
                                },
                                {
                                    "0": "Michael",
                                    "1": "Blythe",
                                    "2": "Northeast",
                                    "3": "3763178.1700",
                                    "4": "1"
                                },
                                {
                                    "0": "Tete",
                                    "1": "Mensa-Annan",
                                    "2": "Northwest",
                                    "3": "1576562.1900",
                                    "4": "1"
                                },
                                {
                                    "0": "David",
                                    "1": "Campbell",
                                    "2": "Northwest",
                                    "3": "1573012.9300",
                                    "4": "2"
                                },
                                {
                                    "0": "Pamela",
                                    "1": "Ansman-Wolfe",
                                    "2": "Northwest",
                                    "3": "1352577.1300",
                                    "4": "3"
                                },
                                {
                                    "0": "Tsvi",
                                    "1": "Reiter",
                                    "2": "Southeast",
                                    "3": "2315185.6100",
                                    "4": "1"
                                },
                                {
                                    "0": "Linda",
                                    "1": "Mitchell",
                                    "2": "Southwest",
                                    "3": "4251368.5400",
                                    "4": "1"
                                },
                                {
                                    "0": "Shu",
                                    "1": "Ito",
                                    "2": "Southwest",
                                    "3": "2458535.6100",
                                    "4": "2"
                                },
                                {
                                    "0": "Jae",
                                    "1": "Pak",
                                    "2": "United Kingdom",
                                    "3": "4116871.2200",
                                    "4": "1"
                                }
                            ]
                        },
                        "text/html": [
                            "<table>",
                            "<tr><th>FirstName</th><th>LastName</th><th>TerritoryName</th><th>SalesYTD</th><th>Row</th></tr>",
                            "<tr><td>Lynn</td><td>Tsoflias</td><td>Australia</td><td>1421810.9200</td><td>1</td></tr>",
                            "<tr><td>José</td><td>Saraiva</td><td>Canada</td><td>2604540.7100</td><td>1</td></tr>",
                            "<tr><td>Garrett</td><td>Vargas</td><td>Canada</td><td>1453719.4600</td><td>2</td></tr>",
                            "<tr><td>Jillian</td><td>Carson</td><td>Central</td><td>3189418.3600</td><td>1</td></tr>",
                            "<tr><td>Ranjit</td><td>Varkey Chudukatil</td><td>France</td><td>3121616.3200</td><td>1</td></tr>",
                            "<tr><td>Rachel</td><td>Valdez</td><td>Germany</td><td>1827066.7100</td><td>1</td></tr>",
                            "<tr><td>Michael</td><td>Blythe</td><td>Northeast</td><td>3763178.1700</td><td>1</td></tr>",
                            "<tr><td>Tete</td><td>Mensa-Annan</td><td>Northwest</td><td>1576562.1900</td><td>1</td></tr>",
                            "<tr><td>David</td><td>Campbell</td><td>Northwest</td><td>1573012.9300</td><td>2</td></tr>",
                            "<tr><td>Pamela</td><td>Ansman-Wolfe</td><td>Northwest</td><td>1352577.1300</td><td>3</td></tr>",
                            "<tr><td>Tsvi</td><td>Reiter</td><td>Southeast</td><td>2315185.6100</td><td>1</td></tr>",
                            "<tr><td>Linda</td><td>Mitchell</td><td>Southwest</td><td>4251368.5400</td><td>1</td></tr>",
                            "<tr><td>Shu</td><td>Ito</td><td>Southwest</td><td>2458535.6100</td><td>2</td></tr>",
                            "<tr><td>Jae</td><td>Pak</td><td>United Kingdom</td><td>4116871.2200</td><td>1</td></tr>",
                            "</table>"
                        ]
                    }
                }
            ],
            "execution_count": 88
        },
        {
            "cell_type": "markdown",
            "source": [
                "# RANK (Transact-SQL)\n",
                "\n",
                "Returns the rank of each row within the partition of a result set. The rank of a row is one plus the number of ranks that come before the row in question.\n",
                "\n",
                "ROW\\_NUMBER and RANK are similar. ROW\\_NUMBER numbers all rows sequentially (for example 1, 2, 3, 4, 5). RANK provides the same numeric value for ties (for example 1, 2, 2, 4, 5).\n",
                "\n",
                "  \n",
                "\n",
                "### Ranking rows within a partition\n",
                "\n",
                "The following example ranks the products in inventory the specified inventory locations according to their quantities. The result set is partitioned by `LocationID` and logically ordered by `Quantity`. Notice that products 494 and 495 have the same quantity. Because they are tied, they are both ranked one."
            ],
            "metadata": {
                "azdata_cell_guid": "dcec69d0-9693-460b-9399-61b0ce1d439e"
            },
            "attachments": {}
        },
        {
            "cell_type": "code",
            "source": [
                "USE AdventureWorks2019;  \r\n",
                "GO  \r\n",
                "SELECT i.ProductID, p.Name, i.LocationID, i.Quantity  \r\n",
                "    ,RANK() OVER   \r\n",
                "    (PARTITION BY i.LocationID ORDER BY i.Quantity DESC) AS Rank  \r\n",
                "FROM Production.ProductInventory AS i   \r\n",
                "INNER JOIN Production.Product AS p   \r\n",
                "    ON i.ProductID = p.ProductID  \r\n",
                "WHERE i.LocationID BETWEEN 3 AND 4  \r\n",
                "ORDER BY i.LocationID;  \r\n",
                "GO"
            ],
            "metadata": {
                "azdata_cell_guid": "80f9e7f5-7cbe-40cb-9728-f32b710c9239"
            },
            "outputs": [
                {
                    "output_type": "display_data",
                    "data": {
                        "text/html": "Commands completed successfully."
                    },
                    "metadata": {}
                },
                {
                    "output_type": "display_data",
                    "data": {
                        "text/html": "(10 rows affected)"
                    },
                    "metadata": {}
                },
                {
                    "output_type": "display_data",
                    "data": {
                        "text/html": "Total execution time: 00:00:00.032"
                    },
                    "metadata": {}
                },
                {
                    "output_type": "execute_result",
                    "metadata": {},
                    "execution_count": 89,
                    "data": {
                        "application/vnd.dataresource+json": {
                            "schema": {
                                "fields": [
                                    {
                                        "name": "ProductID"
                                    },
                                    {
                                        "name": "Name"
                                    },
                                    {
                                        "name": "LocationID"
                                    },
                                    {
                                        "name": "Quantity"
                                    },
                                    {
                                        "name": "Rank"
                                    }
                                ]
                            },
                            "data": [
                                {
                                    "0": "494",
                                    "1": "Paint - Silver",
                                    "2": "3",
                                    "3": "49",
                                    "4": "1"
                                },
                                {
                                    "0": "495",
                                    "1": "Paint - Blue",
                                    "2": "3",
                                    "3": "49",
                                    "4": "1"
                                },
                                {
                                    "0": "493",
                                    "1": "Paint - Red",
                                    "2": "3",
                                    "3": "41",
                                    "4": "3"
                                },
                                {
                                    "0": "496",
                                    "1": "Paint - Yellow",
                                    "2": "3",
                                    "3": "30",
                                    "4": "4"
                                },
                                {
                                    "0": "492",
                                    "1": "Paint - Black",
                                    "2": "3",
                                    "3": "17",
                                    "4": "5"
                                },
                                {
                                    "0": "495",
                                    "1": "Paint - Blue",
                                    "2": "4",
                                    "3": "35",
                                    "4": "1"
                                },
                                {
                                    "0": "496",
                                    "1": "Paint - Yellow",
                                    "2": "4",
                                    "3": "25",
                                    "4": "2"
                                },
                                {
                                    "0": "493",
                                    "1": "Paint - Red",
                                    "2": "4",
                                    "3": "24",
                                    "4": "3"
                                },
                                {
                                    "0": "492",
                                    "1": "Paint - Black",
                                    "2": "4",
                                    "3": "14",
                                    "4": "4"
                                },
                                {
                                    "0": "494",
                                    "1": "Paint - Silver",
                                    "2": "4",
                                    "3": "12",
                                    "4": "5"
                                }
                            ]
                        },
                        "text/html": [
                            "<table>",
                            "<tr><th>ProductID</th><th>Name</th><th>LocationID</th><th>Quantity</th><th>Rank</th></tr>",
                            "<tr><td>494</td><td>Paint - Silver</td><td>3</td><td>49</td><td>1</td></tr>",
                            "<tr><td>495</td><td>Paint - Blue</td><td>3</td><td>49</td><td>1</td></tr>",
                            "<tr><td>493</td><td>Paint - Red</td><td>3</td><td>41</td><td>3</td></tr>",
                            "<tr><td>496</td><td>Paint - Yellow</td><td>3</td><td>30</td><td>4</td></tr>",
                            "<tr><td>492</td><td>Paint - Black</td><td>3</td><td>17</td><td>5</td></tr>",
                            "<tr><td>495</td><td>Paint - Blue</td><td>4</td><td>35</td><td>1</td></tr>",
                            "<tr><td>496</td><td>Paint - Yellow</td><td>4</td><td>25</td><td>2</td></tr>",
                            "<tr><td>493</td><td>Paint - Red</td><td>4</td><td>24</td><td>3</td></tr>",
                            "<tr><td>492</td><td>Paint - Black</td><td>4</td><td>14</td><td>4</td></tr>",
                            "<tr><td>494</td><td>Paint - Silver</td><td>4</td><td>12</td><td>5</td></tr>",
                            "</table>"
                        ]
                    }
                }
            ],
            "execution_count": 89
        },
        {
            "cell_type": "markdown",
            "source": [
                "# NTILE (Transact-SQL)\n",
                "\n",
                "# <span style=\"font-size: 14px;\">Distributes the rows in an ordered partition into a specified number of groups. The groups are numbered, starting at one. For each row, NTILE returns the number of the group to which the row belongs.</span>"
            ],
            "metadata": {
                "azdata_cell_guid": "acee7903-d4dd-45cc-ad33-2ac9cb4fab30"
            },
            "attachments": {}
        },
        {
            "cell_type": "markdown",
            "source": [
                "Dividing rows into groups\r\n",
                "The following example divides rows into four groups of employees based on their year-to-date sales. Because the total number of rows is not divisible by the number of groups, the first two groups have four rows and the remaining groups have three rows each."
            ],
            "metadata": {
                "azdata_cell_guid": "d73dabca-8533-495d-a6cf-d6d5ab97aa02"
            }
        },
        {
            "cell_type": "code",
            "source": [
                "USE AdventureWorks2019;   \r\n",
                "GO  \r\n",
                "SELECT p.FirstName, p.LastName  \r\n",
                "    ,NTILE(6) OVER(ORDER BY SalesYTD DESC) AS Quartile  \r\n",
                "    ,CONVERT(NVARCHAR(20),s.SalesYTD,1) AS SalesYTD  \r\n",
                "    , a.PostalCode  \r\n",
                "FROM Sales.SalesPerson AS s   \r\n",
                "INNER JOIN Person.Person AS p   \r\n",
                "    ON s.BusinessEntityID = p.BusinessEntityID  \r\n",
                "INNER JOIN Person.Address AS a   \r\n",
                "    ON a.AddressID = p.BusinessEntityID  \r\n",
                "WHERE TerritoryID IS NOT NULL   \r\n",
                "    AND SalesYTD <> 0;  \r\n",
                "GO"
            ],
            "metadata": {
                "azdata_cell_guid": "a3d587ac-2c50-467e-991f-a8debb0ac464"
            },
            "outputs": [
                {
                    "output_type": "display_data",
                    "data": {
                        "text/html": "Commands completed successfully."
                    },
                    "metadata": {}
                },
                {
                    "output_type": "display_data",
                    "data": {
                        "text/html": "(14 rows affected)"
                    },
                    "metadata": {}
                },
                {
                    "output_type": "display_data",
                    "data": {
                        "text/html": "Total execution time: 00:00:00.029"
                    },
                    "metadata": {}
                },
                {
                    "output_type": "execute_result",
                    "metadata": {},
                    "execution_count": 93,
                    "data": {
                        "application/vnd.dataresource+json": {
                            "schema": {
                                "fields": [
                                    {
                                        "name": "FirstName"
                                    },
                                    {
                                        "name": "LastName"
                                    },
                                    {
                                        "name": "Quartile"
                                    },
                                    {
                                        "name": "SalesYTD"
                                    },
                                    {
                                        "name": "PostalCode"
                                    }
                                ]
                            },
                            "data": [
                                {
                                    "0": "Linda",
                                    "1": "Mitchell",
                                    "2": "1",
                                    "3": "4,251,368.55",
                                    "4": "98027"
                                },
                                {
                                    "0": "Jae",
                                    "1": "Pak",
                                    "2": "1",
                                    "3": "4,116,871.23",
                                    "4": "98055"
                                },
                                {
                                    "0": "Michael",
                                    "1": "Blythe",
                                    "2": "1",
                                    "3": "3,763,178.18",
                                    "4": "98027"
                                },
                                {
                                    "0": "Jillian",
                                    "1": "Carson",
                                    "2": "2",
                                    "3": "3,189,418.37",
                                    "4": "98027"
                                },
                                {
                                    "0": "Ranjit",
                                    "1": "Varkey Chudukatil",
                                    "2": "2",
                                    "3": "3,121,616.32",
                                    "4": "98055"
                                },
                                {
                                    "0": "José",
                                    "1": "Saraiva",
                                    "2": "2",
                                    "3": "2,604,540.72",
                                    "4": "98055"
                                },
                                {
                                    "0": "Shu",
                                    "1": "Ito",
                                    "2": "3",
                                    "3": "2,458,535.62",
                                    "4": "98055"
                                },
                                {
                                    "0": "Tsvi",
                                    "1": "Reiter",
                                    "2": "3",
                                    "3": "2,315,185.61",
                                    "4": "98027"
                                },
                                {
                                    "0": "Rachel",
                                    "1": "Valdez",
                                    "2": "4",
                                    "3": "1,827,066.71",
                                    "4": "98055"
                                },
                                {
                                    "0": "Tete",
                                    "1": "Mensa-Annan",
                                    "2": "4",
                                    "3": "1,576,562.20",
                                    "4": "98055"
                                },
                                {
                                    "0": "David",
                                    "1": "Campbell",
                                    "2": "5",
                                    "3": "1,573,012.94",
                                    "4": "98055"
                                },
                                {
                                    "0": "Garrett",
                                    "1": "Vargas",
                                    "2": "5",
                                    "3": "1,453,719.47",
                                    "4": "98027"
                                },
                                {
                                    "0": "Lynn",
                                    "1": "Tsoflias",
                                    "2": "6",
                                    "3": "1,421,810.92",
                                    "4": "98055"
                                },
                                {
                                    "0": "Pamela",
                                    "1": "Ansman-Wolfe",
                                    "2": "6",
                                    "3": "1,352,577.13",
                                    "4": "98027"
                                }
                            ]
                        },
                        "text/html": [
                            "<table>",
                            "<tr><th>FirstName</th><th>LastName</th><th>Quartile</th><th>SalesYTD</th><th>PostalCode</th></tr>",
                            "<tr><td>Linda</td><td>Mitchell</td><td>1</td><td>4,251,368.55</td><td>98027</td></tr>",
                            "<tr><td>Jae</td><td>Pak</td><td>1</td><td>4,116,871.23</td><td>98055</td></tr>",
                            "<tr><td>Michael</td><td>Blythe</td><td>1</td><td>3,763,178.18</td><td>98027</td></tr>",
                            "<tr><td>Jillian</td><td>Carson</td><td>2</td><td>3,189,418.37</td><td>98027</td></tr>",
                            "<tr><td>Ranjit</td><td>Varkey Chudukatil</td><td>2</td><td>3,121,616.32</td><td>98055</td></tr>",
                            "<tr><td>José</td><td>Saraiva</td><td>2</td><td>2,604,540.72</td><td>98055</td></tr>",
                            "<tr><td>Shu</td><td>Ito</td><td>3</td><td>2,458,535.62</td><td>98055</td></tr>",
                            "<tr><td>Tsvi</td><td>Reiter</td><td>3</td><td>2,315,185.61</td><td>98027</td></tr>",
                            "<tr><td>Rachel</td><td>Valdez</td><td>4</td><td>1,827,066.71</td><td>98055</td></tr>",
                            "<tr><td>Tete</td><td>Mensa-Annan</td><td>4</td><td>1,576,562.20</td><td>98055</td></tr>",
                            "<tr><td>David</td><td>Campbell</td><td>5</td><td>1,573,012.94</td><td>98055</td></tr>",
                            "<tr><td>Garrett</td><td>Vargas</td><td>5</td><td>1,453,719.47</td><td>98027</td></tr>",
                            "<tr><td>Lynn</td><td>Tsoflias</td><td>6</td><td>1,421,810.92</td><td>98055</td></tr>",
                            "<tr><td>Pamela</td><td>Ansman-Wolfe</td><td>6</td><td>1,352,577.13</td><td>98027</td></tr>",
                            "</table>"
                        ]
                    }
                }
            ],
            "execution_count": 93
        },
        {
            "cell_type": "markdown",
            "source": [
                "<span style=\"color: rgb(23, 23, 23); font-family: &quot;Segoe UI&quot;, SegoeUI, &quot;Helvetica Neue&quot;, Helvetica, Arial, sans-serif; font-size: 16px; background-color: rgb(255, 255, 255);\">The following example shows the four ranking functions used in the same query. For function-specific examples, see each ranking function.</span>"
            ],
            "metadata": {
                "azdata_cell_guid": "4fe59e08-1c5b-4bb6-9a9a-9cf3d2c94b21"
            },
            "attachments": {}
        },
        {
            "cell_type": "code",
            "source": [
                "USE AdventureWorks2019;  \r\n",
                "GO  \r\n",
                "SELECT p.FirstName, p.LastName  \r\n",
                "    ,ROW_NUMBER() OVER (ORDER BY a.PostalCode) AS \"Row Number\"  \r\n",
                "    ,RANK() OVER (ORDER BY a.PostalCode) AS Rank  \r\n",
                "    ,DENSE_RANK() OVER (ORDER BY a.PostalCode) AS \"Dense Rank\"  \r\n",
                "    ,NTILE(4) OVER (ORDER BY a.PostalCode) AS Quartile  \r\n",
                "    ,s.SalesYTD  \r\n",
                "    ,a.PostalCode  \r\n",
                "FROM Sales.SalesPerson AS s   \r\n",
                "    INNER JOIN Person.Person AS p   \r\n",
                "        ON s.BusinessEntityID = p.BusinessEntityID  \r\n",
                "    INNER JOIN Person.Address AS a   \r\n",
                "        ON a.AddressID = p.BusinessEntityID  \r\n",
                "WHERE TerritoryID IS NOT NULL AND SalesYTD <> 0;"
            ],
            "metadata": {
                "azdata_cell_guid": "6d84327e-8cbd-44cd-a0c1-1e6df6329fa9"
            },
            "outputs": [
                {
                    "output_type": "display_data",
                    "data": {
                        "text/html": "Commands completed successfully."
                    },
                    "metadata": {}
                },
                {
                    "output_type": "display_data",
                    "data": {
                        "text/html": "(14 rows affected)"
                    },
                    "metadata": {}
                },
                {
                    "output_type": "display_data",
                    "data": {
                        "text/html": "Total execution time: 00:00:00.049"
                    },
                    "metadata": {}
                },
                {
                    "output_type": "execute_result",
                    "metadata": {},
                    "execution_count": 94,
                    "data": {
                        "application/vnd.dataresource+json": {
                            "schema": {
                                "fields": [
                                    {
                                        "name": "FirstName"
                                    },
                                    {
                                        "name": "LastName"
                                    },
                                    {
                                        "name": "Row Number"
                                    },
                                    {
                                        "name": "Rank"
                                    },
                                    {
                                        "name": "Dense Rank"
                                    },
                                    {
                                        "name": "Quartile"
                                    },
                                    {
                                        "name": "SalesYTD"
                                    },
                                    {
                                        "name": "PostalCode"
                                    }
                                ]
                            },
                            "data": [
                                {
                                    "0": "Michael",
                                    "1": "Blythe",
                                    "2": "1",
                                    "3": "1",
                                    "4": "1",
                                    "5": "1",
                                    "6": "3763178.1787",
                                    "7": "98027"
                                },
                                {
                                    "0": "Linda",
                                    "1": "Mitchell",
                                    "2": "2",
                                    "3": "1",
                                    "4": "1",
                                    "5": "1",
                                    "6": "4251368.5497",
                                    "7": "98027"
                                },
                                {
                                    "0": "Jillian",
                                    "1": "Carson",
                                    "2": "3",
                                    "3": "1",
                                    "4": "1",
                                    "5": "1",
                                    "6": "3189418.3662",
                                    "7": "98027"
                                },
                                {
                                    "0": "Garrett",
                                    "1": "Vargas",
                                    "2": "4",
                                    "3": "1",
                                    "4": "1",
                                    "5": "1",
                                    "6": "1453719.4653",
                                    "7": "98027"
                                },
                                {
                                    "0": "Tsvi",
                                    "1": "Reiter",
                                    "2": "5",
                                    "3": "1",
                                    "4": "1",
                                    "5": "2",
                                    "6": "2315185.6110",
                                    "7": "98027"
                                },
                                {
                                    "0": "Pamela",
                                    "1": "Ansman-Wolfe",
                                    "2": "6",
                                    "3": "1",
                                    "4": "1",
                                    "5": "2",
                                    "6": "1352577.1325",
                                    "7": "98027"
                                },
                                {
                                    "0": "Shu",
                                    "1": "Ito",
                                    "2": "7",
                                    "3": "7",
                                    "4": "2",
                                    "5": "2",
                                    "6": "2458535.6169",
                                    "7": "98055"
                                },
                                {
                                    "0": "José",
                                    "1": "Saraiva",
                                    "2": "8",
                                    "3": "7",
                                    "4": "2",
                                    "5": "2",
                                    "6": "2604540.7172",
                                    "7": "98055"
                                },
                                {
                                    "0": "David",
                                    "1": "Campbell",
                                    "2": "9",
                                    "3": "7",
                                    "4": "2",
                                    "5": "3",
                                    "6": "1573012.9383",
                                    "7": "98055"
                                },
                                {
                                    "0": "Tete",
                                    "1": "Mensa-Annan",
                                    "2": "10",
                                    "3": "7",
                                    "4": "2",
                                    "5": "3",
                                    "6": "1576562.1966",
                                    "7": "98055"
                                },
                                {
                                    "0": "Lynn",
                                    "1": "Tsoflias",
                                    "2": "11",
                                    "3": "7",
                                    "4": "2",
                                    "5": "3",
                                    "6": "1421810.9242",
                                    "7": "98055"
                                },
                                {
                                    "0": "Rachel",
                                    "1": "Valdez",
                                    "2": "12",
                                    "3": "7",
                                    "4": "2",
                                    "5": "4",
                                    "6": "1827066.7118",
                                    "7": "98055"
                                },
                                {
                                    "0": "Jae",
                                    "1": "Pak",
                                    "2": "13",
                                    "3": "7",
                                    "4": "2",
                                    "5": "4",
                                    "6": "4116871.2277",
                                    "7": "98055"
                                },
                                {
                                    "0": "Ranjit",
                                    "1": "Varkey Chudukatil",
                                    "2": "14",
                                    "3": "7",
                                    "4": "2",
                                    "5": "4",
                                    "6": "3121616.3202",
                                    "7": "98055"
                                }
                            ]
                        },
                        "text/html": [
                            "<table>",
                            "<tr><th>FirstName</th><th>LastName</th><th>Row Number</th><th>Rank</th><th>Dense Rank</th><th>Quartile</th><th>SalesYTD</th><th>PostalCode</th></tr>",
                            "<tr><td>Michael</td><td>Blythe</td><td>1</td><td>1</td><td>1</td><td>1</td><td>3763178.1787</td><td>98027</td></tr>",
                            "<tr><td>Linda</td><td>Mitchell</td><td>2</td><td>1</td><td>1</td><td>1</td><td>4251368.5497</td><td>98027</td></tr>",
                            "<tr><td>Jillian</td><td>Carson</td><td>3</td><td>1</td><td>1</td><td>1</td><td>3189418.3662</td><td>98027</td></tr>",
                            "<tr><td>Garrett</td><td>Vargas</td><td>4</td><td>1</td><td>1</td><td>1</td><td>1453719.4653</td><td>98027</td></tr>",
                            "<tr><td>Tsvi</td><td>Reiter</td><td>5</td><td>1</td><td>1</td><td>2</td><td>2315185.6110</td><td>98027</td></tr>",
                            "<tr><td>Pamela</td><td>Ansman-Wolfe</td><td>6</td><td>1</td><td>1</td><td>2</td><td>1352577.1325</td><td>98027</td></tr>",
                            "<tr><td>Shu</td><td>Ito</td><td>7</td><td>7</td><td>2</td><td>2</td><td>2458535.6169</td><td>98055</td></tr>",
                            "<tr><td>José</td><td>Saraiva</td><td>8</td><td>7</td><td>2</td><td>2</td><td>2604540.7172</td><td>98055</td></tr>",
                            "<tr><td>David</td><td>Campbell</td><td>9</td><td>7</td><td>2</td><td>3</td><td>1573012.9383</td><td>98055</td></tr>",
                            "<tr><td>Tete</td><td>Mensa-Annan</td><td>10</td><td>7</td><td>2</td><td>3</td><td>1576562.1966</td><td>98055</td></tr>",
                            "<tr><td>Lynn</td><td>Tsoflias</td><td>11</td><td>7</td><td>2</td><td>3</td><td>1421810.9242</td><td>98055</td></tr>",
                            "<tr><td>Rachel</td><td>Valdez</td><td>12</td><td>7</td><td>2</td><td>4</td><td>1827066.7118</td><td>98055</td></tr>",
                            "<tr><td>Jae</td><td>Pak</td><td>13</td><td>7</td><td>2</td><td>4</td><td>4116871.2277</td><td>98055</td></tr>",
                            "<tr><td>Ranjit</td><td>Varkey Chudukatil</td><td>14</td><td>7</td><td>2</td><td>4</td><td>3121616.3202</td><td>98055</td></tr>",
                            "</table>"
                        ]
                    }
                }
            ],
            "execution_count": 94
        },
        {
            "cell_type": "markdown",
            "source": [
                "In [SQL Server](https://database.guide/what-is-sql-server/), you can use the [T-SQL](https://database.guide/what-is-t-sql/) `FORMAT()` function to return values such as numbers and dates as formatted strings.\n",
                "\n",
                "You provide the value to be formatted, and you specify the format to use. The function accepts an optional argument that allows you to specify a culture to use when formatting the value."
            ],
            "metadata": {
                "azdata_cell_guid": "734bc401-9411-41ed-a396-058bf462bf93"
            },
            "attachments": {}
        },
        {
            "cell_type": "code",
            "source": [
                "SELECT FORMAT(1, 'C') AS Result;"
            ],
            "metadata": {
                "azdata_cell_guid": "139f7601-8bb2-4d74-af19-59d67b9d289d"
            },
            "outputs": [
                {
                    "output_type": "display_data",
                    "data": {
                        "text/html": "(1 row affected)"
                    },
                    "metadata": {}
                },
                {
                    "output_type": "display_data",
                    "data": {
                        "text/html": "Total execution time: 00:00:00.022"
                    },
                    "metadata": {}
                },
                {
                    "output_type": "execute_result",
                    "metadata": {},
                    "execution_count": 95,
                    "data": {
                        "application/vnd.dataresource+json": {
                            "schema": {
                                "fields": [
                                    {
                                        "name": "Result"
                                    }
                                ]
                            },
                            "data": [
                                {
                                    "0": "$1.00"
                                }
                            ]
                        },
                        "text/html": [
                            "<table>",
                            "<tr><th>Result</th></tr>",
                            "<tr><td>$1.00</td></tr>",
                            "</table>"
                        ]
                    }
                }
            ],
            "execution_count": 95
        },
        {
            "cell_type": "code",
            "source": [
                "SELECT \r\n",
                "  GETDATE() AS 'Unformatted Date',\r\n",
                "  FORMAT( GETDATE(), 'D') AS 'Formatted Date';"
            ],
            "metadata": {
                "azdata_cell_guid": "41c4ac05-188b-49fe-be54-616bedc2b50c"
            },
            "outputs": [
                {
                    "output_type": "display_data",
                    "data": {
                        "text/html": "(1 row affected)"
                    },
                    "metadata": {}
                },
                {
                    "output_type": "display_data",
                    "data": {
                        "text/html": "Total execution time: 00:00:00.011"
                    },
                    "metadata": {}
                },
                {
                    "output_type": "execute_result",
                    "metadata": {},
                    "execution_count": 96,
                    "data": {
                        "application/vnd.dataresource+json": {
                            "schema": {
                                "fields": [
                                    {
                                        "name": "Unformatted Date"
                                    },
                                    {
                                        "name": "Formatted Date"
                                    }
                                ]
                            },
                            "data": [
                                {
                                    "0": "2021-08-09 21:50:59.303",
                                    "1": "Monday, August 9, 2021"
                                }
                            ]
                        },
                        "text/html": [
                            "<table>",
                            "<tr><th>Unformatted Date</th><th>Formatted Date</th></tr>",
                            "<tr><td>2021-08-09 21:50:59.303</td><td>Monday, August 9, 2021</td></tr>",
                            "</table>"
                        ]
                    }
                }
            ],
            "execution_count": 96
        },
        {
            "cell_type": "code",
            "source": [
                "SELECT \r\n",
                "    FORMAT(1, 'C', 'fr-FR') AS 'France', \r\n",
                "    FORMAT(1, 'C', 'th-TH') AS 'Thailand', \r\n",
                "    FORMAT(1, 'C', 'ja-JP') AS 'Japan';"
            ],
            "metadata": {
                "azdata_cell_guid": "0724e70d-c6a7-494f-9cb7-f05f2eab839f"
            },
            "outputs": [
                {
                    "output_type": "display_data",
                    "data": {
                        "text/html": "(1 row affected)"
                    },
                    "metadata": {}
                },
                {
                    "output_type": "display_data",
                    "data": {
                        "text/html": "Total execution time: 00:00:00.014"
                    },
                    "metadata": {}
                },
                {
                    "output_type": "execute_result",
                    "metadata": {},
                    "execution_count": 36,
                    "data": {
                        "application/vnd.dataresource+json": {
                            "schema": {
                                "fields": [
                                    {
                                        "name": "France"
                                    },
                                    {
                                        "name": "Thailand"
                                    },
                                    {
                                        "name": "Japan"
                                    }
                                ]
                            },
                            "data": [
                                {
                                    "0": "1,00 €",
                                    "1": "฿1.00",
                                    "2": "¥1"
                                }
                            ]
                        },
                        "text/html": [
                            "<table>",
                            "<tr><th>France</th><th>Thailand</th><th>Japan</th></tr>",
                            "<tr><td>1,00 €</td><td>฿1.00</td><td>¥1</td></tr>",
                            "</table>"
                        ]
                    }
                }
            ],
            "execution_count": 36
        },
        {
            "cell_type": "markdown",
            "source": [
                "<span style=\"color: rgb(0, 0, 0); font-family: Quicksand; font-size: 19.2px; background-color: rgb(255, 255, 255);\">When using&nbsp;</span> `FORMAT`<span style=\"color: rgb(0, 0, 0); font-family: Quicksand; font-size: 19.2px; background-color: rgb(255, 255, 255);\">, colons and periods must be escaped (this adheres to the the CLR formatting rules). Therefore, when the format string (second parameter) contains a colon or period, the colon or period must be escaped with a backslash when an input value (first parameter) is of the&nbsp;</span> <span style=\"box-sizing: border-box; font-weight: bolder; color: rgb(0, 0, 0); font-family: Quicksand; font-size: 19.2px; background-color: rgb(255, 255, 255);\">time</span> <span style=\"color: rgb(0, 0, 0); font-family: Quicksand; font-size: 19.2px; background-color: rgb(255, 255, 255);\">&nbsp;data type.</span>"
            ],
            "metadata": {
                "azdata_cell_guid": "d28f4dc4-5eca-457b-96cf-66d72d380d7c"
            },
            "attachments": {}
        },
        {
            "cell_type": "code",
            "source": [
                "SELECT \r\n",
                "  CAST('12:15' AS time) AS 'Unformatted Data',\r\n",
                "  FORMAT(CAST('12:15' AS time), N'hh.mm') AS 'Unescaped',\r\n",
                "  FORMAT(CAST('12:15' AS time), N'hh\\.mm') AS 'Escaped';"
            ],
            "metadata": {
                "azdata_cell_guid": "2a83f181-244c-4dde-84e6-103f80ae0154",
                "tags": []
            },
            "outputs": [],
            "execution_count": null
        },
        {
            "cell_type": "code",
            "source": [
                "SELECT FORMAT(123456789, '##-##-#####');"
            ],
            "metadata": {
                "azdata_cell_guid": "28d14bad-c2ab-42ff-9ade-11fa59beac35"
            },
            "outputs": [
                {
                    "output_type": "display_data",
                    "data": {
                        "text/html": "(1 row affected)"
                    },
                    "metadata": {}
                },
                {
                    "output_type": "display_data",
                    "data": {
                        "text/html": "Total execution time: 00:00:00.005"
                    },
                    "metadata": {}
                },
                {
                    "output_type": "execute_result",
                    "metadata": {},
                    "execution_count": 97,
                    "data": {
                        "application/vnd.dataresource+json": {
                            "schema": {
                                "fields": [
                                    {
                                        "name": "(No column name)"
                                    }
                                ]
                            },
                            "data": [
                                {
                                    "0": "12-34-56789"
                                }
                            ]
                        },
                        "text/html": [
                            "<table>",
                            "<tr><th>(No column name)</th></tr>",
                            "<tr><td>12-34-56789</td></tr>",
                            "</table>"
                        ]
                    }
                }
            ],
            "execution_count": 97
        }
    ]
}